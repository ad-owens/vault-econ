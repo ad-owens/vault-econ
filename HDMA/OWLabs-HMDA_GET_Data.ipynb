{
 "cells": [
  {
   "cell_type": "code",
   "execution_count": 8,
   "metadata": {
    "collapsed": false
   },
   "outputs": [],
   "source": [
    "import pandas as pd\n",
    "import csv\n",
    "import requests\n",
    "import glob\n",
    "\n",
    "import time\n",
    "start_time = time.time()\n",
    "\n",
    "def get_hdma(year, limit, offset):\n",
    "    \n",
    "    headers = {\"Content-Type\":\"text/csv;charset=UTF-8\"}\n",
    "    \n",
    "    url = 'https://api.consumerfinance.gov:443/data/hmda/slice/hmda_lar.csv?%24where=as_of_year%3D'+str(year)+'&%24limit='+str(limit)+'&%24offset='+str(offset)\n",
    "  \n",
    "    print url  #just checking....\n",
    "    \n",
    "    response = requests.get(url, headers=headers, verify=False)\n",
    "    hdma_csv = response.content\n",
    "    \n",
    "    file_name = 'hdma_data/hdma'+ str(year) +'.csv'\n",
    "\n",
    "    text_file = open(file_name, \"w\")\n",
    "    text_file.write(hdma_csv)\n",
    "    text_file.close()"
   ]
  },
  {
   "cell_type": "code",
   "execution_count": 9,
   "metadata": {
    "collapsed": false
   },
   "outputs": [
    {
     "name": "stdout",
     "output_type": "stream",
     "text": [
      "https://api.consumerfinance.gov:443/data/hmda/slice/hmda_lar.csv?%24where=as_of_year%3D2010&%24limit=1000&%24offset=10\n",
      "https://api.consumerfinance.gov:443/data/hmda/slice/hmda_lar.csv?%24where=as_of_year%3D2011&%24limit=1000&%24offset=10"
     ]
    },
    {
     "name": "stderr",
     "output_type": "stream",
     "text": [
      "/Users/adamowens/anaconda/lib/python2.7/site-packages/requests/packages/urllib3/connectionpool.py:821: InsecureRequestWarning: Unverified HTTPS request is being made. Adding certificate verification is strongly advised. See: https://urllib3.readthedocs.org/en/latest/security.html\n",
      "  InsecureRequestWarning)\n",
      "/Users/adamowens/anaconda/lib/python2.7/site-packages/requests/packages/urllib3/connectionpool.py:821: InsecureRequestWarning: Unverified HTTPS request is being made. Adding certificate verification is strongly advised. See: https://urllib3.readthedocs.org/en/latest/security.html\n",
      "  InsecureRequestWarning)\n"
     ]
    },
    {
     "name": "stdout",
     "output_type": "stream",
     "text": [
      "\n",
      "https://api.consumerfinance.gov:443/data/hmda/slice/hmda_lar.csv?%24where=as_of_year%3D2012&%24limit=1000&%24offset=10\n",
      "https://api.consumerfinance.gov:443/data/hmda/slice/hmda_lar.csv?%24where=as_of_year%3D2013&%24limit=1000&%24offset=10"
     ]
    },
    {
     "name": "stderr",
     "output_type": "stream",
     "text": [
      "/Users/adamowens/anaconda/lib/python2.7/site-packages/requests/packages/urllib3/connectionpool.py:821: InsecureRequestWarning: Unverified HTTPS request is being made. Adding certificate verification is strongly advised. See: https://urllib3.readthedocs.org/en/latest/security.html\n",
      "  InsecureRequestWarning)\n",
      "/Users/adamowens/anaconda/lib/python2.7/site-packages/requests/packages/urllib3/connectionpool.py:821: InsecureRequestWarning: Unverified HTTPS request is being made. Adding certificate verification is strongly advised. See: https://urllib3.readthedocs.org/en/latest/security.html\n",
      "  InsecureRequestWarning)\n"
     ]
    },
    {
     "name": "stdout",
     "output_type": "stream",
     "text": [
      "\n",
      "https://api.consumerfinance.gov:443/data/hmda/slice/hmda_lar.csv?%24where=as_of_year%3D2014&%24limit=1000&%24offset=10\n",
      "https://api.consumerfinance.gov:443/data/hmda/slice/hmda_lar.csv?%24where=as_of_year%3D2015&%24limit=1000&%24offset=10"
     ]
    },
    {
     "name": "stderr",
     "output_type": "stream",
     "text": [
      "/Users/adamowens/anaconda/lib/python2.7/site-packages/requests/packages/urllib3/connectionpool.py:821: InsecureRequestWarning: Unverified HTTPS request is being made. Adding certificate verification is strongly advised. See: https://urllib3.readthedocs.org/en/latest/security.html\n",
      "  InsecureRequestWarning)\n",
      "/Users/adamowens/anaconda/lib/python2.7/site-packages/requests/packages/urllib3/connectionpool.py:821: InsecureRequestWarning: Unverified HTTPS request is being made. Adding certificate verification is strongly advised. See: https://urllib3.readthedocs.org/en/latest/security.html\n",
      "  InsecureRequestWarning)\n"
     ]
    },
    {
     "name": "stdout",
     "output_type": "stream",
     "text": [
      "\n"
     ]
    }
   ],
   "source": [
    "years = [2010, 2011, 2012, 2013, 2014, 2015]\n",
    "\n",
    "for i in years:\n",
    "    get_hdma(i, 1000, 10)"
   ]
  },
  {
   "cell_type": "code",
   "execution_count": 10,
   "metadata": {
    "collapsed": false
   },
   "outputs": [],
   "source": [
    "dummy_variables = ['action_taken_name','applicant_ethnicity_name','applicant_race_name_1',\n",
    "                   'applicant_race_name_2','applicant_race_name_3','applicant_race_name_4','applicant_race_name_5',\n",
    "                   'applicant_sex_name','application_date_indicator','as_of_year','co_applicant_ethnicity_name',\n",
    "                   'co_applicant_race_name_1','co_applicant_race_name_2','co_applicant_race_name_3','co_applicant_race_name_4',\n",
    "                   'co_applicant_race_name_5','co_applicant_sex_name','county_name','denial_reason_name_1',\n",
    "                   'denial_reason_name_2','denial_reason_name_3','edit_status_name','hoepa_status_name',\n",
    "                   'lien_status_name','loan_purpose_name','loan_type_name','msamd_name','owner_occupancy_name',\n",
    "                   'preapproval_name','property_type_name','purchaser_type_name','state_abbr','respondent_id']\n",
    "                   \n",
    "                   \n",
    "cont_variables = ['applicant_income_000s','census_tract_number','sequence_number',\n",
    "                'hud_median_family_income','loan_amount_000s','number_of_1_to_4_family_units',\n",
    "                 'number_of_owner_occupied_units','minority_population','population','rate_spread',\n",
    "                 'tract_to_msamd_income']    "
   ]
  },
  {
   "cell_type": "code",
   "execution_count": 11,
   "metadata": {
    "collapsed": false
   },
   "outputs": [],
   "source": [
    "def split_hdma_df(df):\n",
    "    df_dummy = pd.get_dummies(df[dummy_variables])\n",
    "    df_cont = df[cont_variables]    \n",
    "    \n",
    "    df_total = pd.concat([df_cont,df_dummy], axis = 1)\n",
    "    \n",
    "    print \"Dummy Dataframe Shape:\"+str(df_dummy.shape)\n",
    "    print \"Continuous Dataframe Shape:\"+str(df_cont.shape)\n",
    "    print \"Total Data Shape:\"+str(df_total.shape)\n",
    "    \n",
    "    return df_total"
   ]
  },
  {
   "cell_type": "code",
   "execution_count": 12,
   "metadata": {
    "collapsed": false
   },
   "outputs": [
    {
     "name": "stdout",
     "output_type": "stream",
     "text": [
      "Dummy Dataframe Shape:(6000, 738)\n",
      "Continuous Dataframe Shape:(6000, 11)\n",
      "Total Data Shape:(6000, 749)\n"
     ]
    }
   ],
   "source": [
    "\n",
    "path = \"hdma_data\"\n",
    "allFiles = glob.glob(path + \"/*.csv\")\n",
    "frame = pd.DataFrame()\n",
    "list_ = []\n",
    "for file_ in allFiles:\n",
    "    df = pd.read_csv(file_,index_col=None, header=0)\n",
    "    list_.append(df)\n",
    "\n",
    "df_total = pd.concat(list_)\n",
    "df_featured = split_hdma_df(df_total).to_csv('hdma_total.csv', index=False)"
   ]
  },
  {
   "cell_type": "code",
   "execution_count": 13,
   "metadata": {
    "collapsed": false
   },
   "outputs": [
    {
     "name": "stdout",
     "output_type": "stream",
     "text": [
      "--- 18.7541100979 seconds ---\n"
     ]
    }
   ],
   "source": [
    "print(\"--- %s seconds ---\" % (time.time() - start_time))"
   ]
  },
  {
   "cell_type": "markdown",
   "metadata": {},
   "source": [
    "# LEFTOVERS"
   ]
  },
  {
   "cell_type": "code",
   "execution_count": null,
   "metadata": {
    "collapsed": true
   },
   "outputs": [],
   "source": []
  },
  {
   "cell_type": "code",
   "execution_count": null,
   "metadata": {
    "collapsed": false
   },
   "outputs": [],
   "source": [
    "headers = {\"Content-Type\":\"application/json;charset=UTF-8\"}\n",
    "\n",
    "url = \"https://api.consumerfinance.gov:443/data/hmda/slice/hmda_lar.json?%24where=as_of_year%3D2010&%24limit=100&%24offset=5\"\n",
    "\n",
    "response = requests.get(url, headers=headers, verify=False)\n",
    "\n",
    "obj = json.loads(response.content)\n",
    "\n",
    "print obj\n",
    "\n",
    "# embedded = obj['_embedded']['concepts']\n",
    "\n",
    "# for i in embedded:\n",
    "#     print i\n",
    "\n",
    "# print embedded\n",
    "# print concepts"
   ]
  },
  {
   "cell_type": "code",
   "execution_count": null,
   "metadata": {
    "collapsed": false
   },
   "outputs": [],
   "source": [
    "df_hdma['action_taken_name'].unique()"
   ]
  },
  {
   "cell_type": "code",
   "execution_count": null,
   "metadata": {
    "collapsed": false
   },
   "outputs": [],
   "source": [
    "import csv\n",
    "\n",
    "\n",
    "url = \"https://api.consumerfinance.gov/data/hmda/slice/hmda_lar.json?#!/lien_status=1&loan_purpose=1&action_taken=1&select=as_of_year,loan_type_name,count&section=summary\"\n",
    "\n",
    "url2 = \"https://api.consumerfinance.gov:443/data/hmda/slice/hmda_lar.json\"\n",
    "\n",
    "\n",
    "\n",
    "def get_hdma(url):\n",
    "    url1 = url\n",
    "    response = requests.get(url1, headers = headers, verify=False)\n",
    "    \n",
    "    obj = json.loads(response.content)\n",
    "    data = obj['results']\n",
    "    \n",
    "    csv_file = open('hdma.csv', 'w')\n",
    "    csv_writer = csv.writer(csv_file)\n",
    "    \n",
    "    count = 0\n",
    "    \n",
    "    print obj\n",
    "    \n",
    "    for item in data:\n",
    "        if count == 0:\n",
    "            header = item.keys()\n",
    "            csv_writer.writerow(header)\n",
    "            count += 1\n",
    "        csv_writer.writerow(item.values())\n",
    "\n",
    "get_hdma(url2)"
   ]
  },
  {
   "cell_type": "code",
   "execution_count": null,
   "metadata": {
    "collapsed": true
   },
   "outputs": [],
   "source": []
  }
 ],
 "metadata": {
  "kernelspec": {
   "display_name": "Python 2",
   "language": "python",
   "name": "python2"
  },
  "language_info": {
   "codemirror_mode": {
    "name": "ipython",
    "version": 2
   },
   "file_extension": ".py",
   "mimetype": "text/x-python",
   "name": "python",
   "nbconvert_exporter": "python",
   "pygments_lexer": "ipython2",
   "version": "2.7.11"
  }
 },
 "nbformat": 4,
 "nbformat_minor": 0
}
