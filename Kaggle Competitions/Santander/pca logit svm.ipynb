{
 "cells": [
  {
   "cell_type": "code",
   "execution_count": 2,
   "metadata": {
    "collapsed": false
   },
   "outputs": [],
   "source": [
    "###Just a graph showing 2 separable PCAs\n",
    "import itertools\n",
    "\n",
    "import numpy as np\n",
    "import pandas as pd\n",
    "\n",
    "from matplotlib import pyplot as plt\n",
    "import seaborn as sns\n",
    "\n",
    "from sklearn.feature_selection import VarianceThreshold\n",
    "from sklearn.preprocessing import normalize\n",
    "from sklearn.decomposition import PCA\n",
    "\n",
    "def principal_component_analysis(x_train):\n",
    "\n",
    "    \"\"\"\n",
    "    Principal Component Analysis (PCA) identifies the combination\n",
    "    of attributes (principal components, or directions in the feature space)\n",
    "    that account for the most variance in the data.\n",
    "\n",
    "    Let's calculate the 2 first principal components of the training data,\n",
    "    and then create a scatter plot visualizing the training data examples\n",
    "    projected on the calculated components.\n",
    "    \"\"\"\n",
    "\n",
    "    # Extract the variable to be predicted\n",
    "    y_train = x_train[\"TARGET\"]\n",
    "    x_train = x_train.drop(labels=\"TARGET\", axis=1)\n",
    "    classes = np.sort(np.unique(y_train))\n",
    "    labels = [\"Satisfied customer\", \"Unsatisfied customer\"]\n",
    "\n",
    "    # Normalize each feature to unit norm (vector length)\n",
    "    x_train_normalized = normalize(x_train, axis=0)\n",
    "    \n",
    "    # Run PCA\n",
    "    pca = PCA(n_components=2)\n",
    "    x_train_projected = pca.fit_transform(x_train_normalized)\n",
    "\n",
    "    # Visualize\n",
    "    fig = plt.figure(figsize=(10, 7))\n",
    "    ax = fig.add_subplot(1, 1, 1)\n",
    "    colors = [(0.0, 0.63, 0.69), 'black']\n",
    "    markers = [\"o\", \"D\"]\n",
    "    for class_ix, marker, color, label in zip(\n",
    "            classes, markers, colors, labels):\n",
    "        ax.scatter(x_train_projected[np.where(y_train == class_ix), 0],\n",
    "                   x_train_projected[np.where(y_train == class_ix), 1],\n",
    "                   marker=marker, color=color, edgecolor='whitesmoke',\n",
    "                   linewidth='1', alpha=0.9, label=label)\n",
    "        ax.legend(loc='best')\n",
    "    plt.title(\n",
    "        \"Scatter plot of the training data examples projected on the \"\n",
    "        \"2 first principal components\")\n",
    "    plt.xlabel(\"Principal axis 1 - Explains %.1f %% of the variance\" % (\n",
    "        pca.explained_variance_ratio_[0] * 100.0))\n",
    "    plt.ylabel(\"Principal axis 2 - Explains %.1f %% of the variance\" % (\n",
    "        pca.explained_variance_ratio_[1] * 100.0))\n",
    "    plt.show()\n",
    "\n",
    "    plt.savefig(\"pca.pdf\", format='pdf')\n",
    "    plt.savefig(\"pca.png\", format='png')\n",
    "\n",
    "\n",
    "def remove_feat_constants(data_frame):\n",
    "    # Remove feature vectors containing only one value,\n",
    "    #since they are worthless for prediction. \n",
    "    print(\"\")\n",
    "    print(\"Deleting zero variance features...\")\n",
    "    # We retrieve zero variance features by fitting VarianceThreshold\n",
    "    # selector to the data but don't transform the data with\n",
    "    # the selector because it will also transform our pd dataframe into\n",
    "    # Numpy array and we would like to keep the pd dataframe. Therefore,\n",
    "    # we delete the useless features manually.\n",
    "    n_features_originally = data_frame.shape[1]\n",
    "    selector = VarianceThreshold()\n",
    "    selector.fit(data_frame)\n",
    "    # get the indices of zero variance features\n",
    "    feat_ix_keep = selector.get_support(indices=True)\n",
    "    orig_feat_ix = np.arange(data_frame.columns.size)\n",
    "    feat_ix_delete = np.delete(orig_feat_ix, feat_ix_keep)\n",
    "    # delete zero variance features from the original pd frame\n",
    "    data_frame = data_frame.drop(labels=data_frame.columns[feat_ix_delete],\n",
    "                                 axis=1)\n",
    "    # Print info\n",
    "    n_features_deleted = feat_ix_delete.size\n",
    "    print(\"  - Deleted %s / %s features (~= %.1f %%)\" % (\n",
    "        n_features_deleted, n_features_originally,\n",
    "        100.0 * (np.float(n_features_deleted) / n_features_originally)))\n",
    "    return data_frame\n",
    "\n",
    "\n",
    "def remove_feat_identicals(data_frame):\n",
    "    # Find feature vectors having the same values in the same order and\n",
    "    # remove all but one of those redundant features.\n",
    "    print(\"\")\n",
    "    print(\"Deleting identical features...\")\n",
    "    n_features_originally = data_frame.shape[1]\n",
    "    # Find the names of identical features by going through all the\n",
    "    # combinations of features (each pair is compared only once).\n",
    "    feat_names_delete = []\n",
    "    for feat_1, feat_2 in itertools.combinations(\n",
    "            iterable=data_frame.columns, r=2):\n",
    "        if np.array_equal(data_frame[feat_1], data_frame[feat_2]):\n",
    "            feat_names_delete.append(feat_2)\n",
    "    feat_names_delete = np.unique(feat_names_delete)\n",
    "    # Delete the identical features\n",
    "    data_frame = data_frame.drop(labels=feat_names_delete, axis=1)\n",
    "    n_features_deleted = len(feat_names_delete)\n",
    "    print(\"  - Deleted %s / %s features (~= %.1f %%)\" % (\n",
    "        n_features_deleted, n_features_originally,\n",
    "        100.0 * (np.float(n_features_deleted) / n_features_originally)))\n",
    "    return data_frame\n"
   ]
  },
  {
   "cell_type": "code",
   "execution_count": 3,
   "metadata": {
    "collapsed": false
   },
   "outputs": [],
   "source": [
    "# if __name__ == \"__main__\":\n",
    "#     x_train = remove_feat_constants(x_train)\n",
    "#     x_train = remove_feat_identicals(x_train)\n",
    "\n",
    "# principal_component_analysis(x_train)"
   ]
  },
  {
   "cell_type": "code",
   "execution_count": 4,
   "metadata": {
    "collapsed": false
   },
   "outputs": [
    {
     "name": "stderr",
     "output_type": "stream",
     "text": [
      "/Users/bohun/anaconda/lib/python2.7/site-packages/sklearn/feature_selection/univariate_selection.py:113: UserWarning: Features [ 21  22  56  57  58  59  80  84  85 131 132 133 134 155 161 162 179 180\n",
      " 189 192 220 222 234 238 244 248 261 262 303 307 315 319 327 349] are constant.\n",
      "  UserWarning)\n"
     ]
    },
    {
     "data": {
      "text/plain": [
       "array([2, 2, 2, 2, 2, 2, 2, 2, 2, 2, 2, 2, 2, 2, 2, 2, 2, 2, 2, 2, 2, 2, 2,\n",
       "       2, 2, 2, 2, 2, 2, 2, 2, 2, 2, 2, 2, 2, 2, 2, 2, 2, 2, 2, 2, 2, 2, 2,\n",
       "       2, 2, 2, 2, 2, 2, 2, 2, 2, 2, 2, 2, 2, 2, 2, 2, 2, 2, 2, 2, 2, 2, 2,\n",
       "       2, 2, 2, 2, 2, 2, 2, 2, 2, 2, 2, 2, 2, 2, 2, 2, 2, 2, 2, 2, 2, 2, 2,\n",
       "       2, 2, 2, 2, 2, 2, 2, 2, 2, 2, 2, 2, 2, 2, 2, 2, 2, 2, 2, 2, 2, 2, 2,\n",
       "       2])"
      ]
     },
     "execution_count": 4,
     "metadata": {},
     "output_type": "execute_result"
    }
   ],
   "source": [
    "###inspecting the most important feature, var3\n",
    "from sklearn.neighbors import KNeighborsClassifier\n",
    "training = pd.read_csv('/Users/bohun/Documents/kaggleproject/santandertrain.csv', index_col=0)\n",
    "\n",
    "X = training.iloc[:,:-1]\n",
    "y = training.TARGET\n",
    "\n",
    "from sklearn.feature_selection import SelectKBest\n",
    "from sklearn.feature_selection import chi2, f_classif\n",
    "\n",
    "##select the most important 220 features\n",
    "selectK = SelectKBest(f_classif, k=220)\n",
    "selectK.fit(X, y)\n",
    "X_sel = selectK.transform(X)\n",
    "\n",
    "features = X.columns[selectK.get_support()]\n",
    "\n",
    "##treating -999999 as missing data, let's impute the new value with k-nearest neighbors. \n",
    "X_train = training.loc[training['var3'] != -999999, features[1:]]\n",
    "y_train = training.loc[training['var3'] != -999999, 'var3']\n",
    "X_test = training.loc[training['var3'] == -999999, features[1:]]\n",
    "kclf = KNeighborsClassifier(n_neighbors=20)\n",
    "kclf.fit(X_train, y_train)\n",
    "yvar3 = kclf.predict(X_test)\n",
    "yvar3\n",
    "##we should replace -999999 with 2. "
   ]
  },
  {
   "cell_type": "code",
   "execution_count": 5,
   "metadata": {
    "collapsed": false
   },
   "outputs": [
    {
     "name": "stdout",
     "output_type": "stream",
     "text": [
      "\n",
      "Deleting zero variance features...\n",
      "  - Deleted 34 / 369 features (~= 9.2 %)\n",
      "\n",
      "Deleting identical features...\n",
      "  - Deleted 27 / 335 features (~= 8.1 %)\n"
     ]
    }
   ],
   "source": [
    "#merge, clean data and imputing for var3\n",
    "import itertools\n",
    "import numpy as np\n",
    "import pandas as pd\n",
    "from sklearn.feature_selection import VarianceThreshold\n",
    "from sklearn.preprocessing import normalize\n",
    "from sklearn.decomposition import PCA\n",
    "\n",
    "x_train = pd.read_csv('/Users/bohun/Documents/kaggleproject/santandertrain.csv')\n",
    "y_train = x_train[\"TARGET\"]\n",
    "target = np.array(y_train)\n",
    "\n",
    "x_train = x_train.drop(labels=[\"TARGET\",\"ID\"], axis=1)\n",
    "\n",
    "x_test = pd.read_csv('/Users/bohun/Documents/kaggleproject/santandertest.csv')\n",
    "y_ID = x_test[\"ID\"]\n",
    "x_test.drop(labels=[\"ID\"], axis=1, inplace=True)\n",
    "\n",
    "fulldata = x_train.append(x_test)\n",
    "fulldata['var3'].replace(-999999, 2, inplace=True)\n",
    "fulldata = remove_feat_constants(fulldata)\n",
    "fulldata = remove_feat_identicals(fulldata)"
   ]
  },
  {
   "cell_type": "code",
   "execution_count": 6,
   "metadata": {
    "collapsed": false
   },
   "outputs": [
    {
     "name": "stdout",
     "output_type": "stream",
     "text": [
      "((76020, 308), (75818, 308))\n",
      "((76020, 3), (75818, 3), (76020,))\n"
     ]
    },
    {
     "data": {
      "text/plain": [
       "0.20259142330965535"
      ]
     },
     "execution_count": 6,
     "metadata": {},
     "output_type": "execute_result"
    }
   ],
   "source": [
    "##logistic regression on the training set\n",
    "train = fulldata.iloc[0:76020, ]\n",
    "test = fulldata.iloc[76020:, ]\n",
    "\n",
    "train_normalized = normalize(train, axis=0)\n",
    "test_normalized = normalize(test, axis=0)\n",
    "\n",
    "print (train_normalized.shape, test_normalized.shape)\n",
    "\n",
    "pca = PCA(n_components=3).fit(train_normalized)\n",
    "train_projected = pca.fit_transform(train_normalized)\n",
    "test_projected = pca.transform(test_normalized) # transformation of test set into our PCAs\n",
    "\n",
    "print (train_projected.shape, test_projected.shape, y_train.shape)\n",
    "\n",
    "import sklearn.linear_model as lm\n",
    "logit = lm.LogisticRegression(C=1e5,  class_weight='balanced') \n",
    "logit.fit(train_projected, y_train)\n",
    "logit.score(train_projected, y_train)"
   ]
  },
  {
   "cell_type": "code",
   "execution_count": 200,
   "metadata": {
    "collapsed": false
   },
   "outputs": [
    {
     "name": "stdout",
     "output_type": "stream",
     "text": [
      "[73012  3008]\n",
      "0.0395685345962\n"
     ]
    }
   ],
   "source": [
    "##SVM with balanced classes on top 3 PCs\n",
    "from sklearn import svm\n",
    "wclf = svm.SVC(kernel='poly', degree = 3, class_weight='balanced', C = 0.1)\n",
    "wclf.fit(train_projected, y_train)\n",
    "print wclf.n_support_\n",
    "print wclf.score(train_projected, y_train)"
   ]
  },
  {
   "cell_type": "code",
   "execution_count": 28,
   "metadata": {
    "collapsed": false
   },
   "outputs": [
    {
     "name": "stdout",
     "output_type": "stream",
     "text": [
      "0.952625248995\n",
      "0.952775585372\n",
      "(75818, 2)\n"
     ]
    }
   ],
   "source": [
    "##Gaussian Naive Bayes on top 3 PCs\n",
    "from sklearn import svm\n",
    "from sklearn.cross_validation import train_test_split\n",
    "from sklearn.grid_search import GridSearchCV\n",
    "from sklearn.metrics import classification_report\n",
    "from sklearn.svm import SVC\n",
    "\n",
    "X_train, X_test, y_train, y_test = train_test_split(train_projected, target , test_size=0.3, stratify = target)\n",
    "from sklearn import naive_bayes\n",
    "gnb = naive_bayes.GaussianNB()\n",
    "gnb.fit(X_train, y_train)\n",
    "print gnb.score(X_train, y_train)\n",
    "print gnb.score(X_test, y_test)\n",
    "\n",
    "\n",
    "##fitting gnb on the full data set##\n",
    "gnb.fit(train_projected, target)\n",
    "\n",
    "\n",
    "print gnb.predict_proba(test_projected).shape"
   ]
  },
  {
   "cell_type": "code",
   "execution_count": 5,
   "metadata": {
    "collapsed": false
   },
   "outputs": [
    {
     "name": "stdout",
     "output_type": "stream",
     "text": [
      "Fitting 5 folds for each of 15 candidates, totalling 75 fits\n"
     ]
    },
    {
     "name": "stderr",
     "output_type": "stream",
     "text": [
      "[Parallel(n_jobs=12)]: Done  17 tasks      | elapsed:  9.6min\n",
      "[Parallel(n_jobs=12)]: Done  75 out of  75 | elapsed: 27.3min finished\n"
     ]
    },
    {
     "name": "stdout",
     "output_type": "stream",
     "text": [
      "Best parameters set found on development set:\n",
      "()\n",
      "{'kernel': 'rbf', 'C': 10, 'gamma': 0.001}\n",
      "()\n",
      "Grid scores on development set:\n",
      "()\n",
      "0.408 (+/-0.902) for {'kernel': 'rbf', 'C': 1, 'gamma': 0.001}\n",
      "0.408 (+/-0.902) for {'kernel': 'rbf', 'C': 1, 'gamma': 0.0001}\n",
      "0.776 (+/-0.737) for {'kernel': 'rbf', 'C': 10, 'gamma': 0.001}\n",
      "0.776 (+/-0.737) for {'kernel': 'rbf', 'C': 10, 'gamma': 0.0001}\n",
      "0.114 (+/-0.022) for {'kernel': 'rbf', 'C': 100, 'gamma': 0.001}\n",
      "0.592 (+/-0.902) for {'kernel': 'rbf', 'C': 100, 'gamma': 0.0001}\n",
      "0.592 (+/-0.902) for {'kernel': 'poly', 'C': 0.0001, 'degree': 3}\n",
      "0.592 (+/-0.902) for {'kernel': 'poly', 'C': 0.0001, 'degree': 4}\n",
      "0.592 (+/-0.902) for {'kernel': 'poly', 'C': 0.0001, 'degree': 5}\n",
      "0.408 (+/-0.902) for {'kernel': 'poly', 'C': 0.01, 'degree': 3}\n",
      "0.408 (+/-0.902) for {'kernel': 'poly', 'C': 0.01, 'degree': 4}\n",
      "0.408 (+/-0.902) for {'kernel': 'poly', 'C': 0.01, 'degree': 5}\n",
      "0.408 (+/-0.902) for {'kernel': 'poly', 'C': 0.1, 'degree': 3}\n",
      "0.408 (+/-0.902) for {'kernel': 'poly', 'C': 0.1, 'degree': 4}\n",
      "0.408 (+/-0.902) for {'kernel': 'poly', 'C': 0.1, 'degree': 5}\n",
      "[CV] kernel=rbf, C=1, gamma=0.001 ....................................\n",
      "[CV] kernel=rbf, C=1, gamma=0.001 ....................................\n",
      "[CV] kernel=rbf, C=1, gamma=0.001 ....................................\n",
      "[CV] kernel=rbf, C=1, gamma=0.001 ....................................\n",
      "[CV] kernel=rbf, C=1, gamma=0.001 ....................................\n",
      "[CV] kernel=rbf, C=1, gamma=0.0001 ...................................\n",
      "[CV] kernel=rbf, C=1, gamma=0.0001 ...................................\n",
      "[CV] kernel=rbf, C=1, gamma=0.0001 ...................................\n",
      "[CV] kernel=rbf, C=1, gamma=0.0001 ...................................\n",
      "[CV] kernel=rbf, C=1, gamma=0.0001 ...................................\n",
      "[CV] kernel=rbf, C=10, gamma=0.001 ...................................\n",
      "[CV] kernel=rbf, C=10, gamma=0.001 ...................................\n",
      "[CV] ........................... kernel=rbf, C=1, gamma=0.001 - 5.1min[CV] ........................... kernel=rbf, C=1, gamma=0.001 - 5.1min[CV] ........................... kernel=rbf, C=1, gamma=0.001 - 5.1min[CV] ........................... kernel=rbf, C=1, gamma=0.001 - 5.1min[CV] ........................... kernel=rbf, C=1, gamma=0.001 - 5.1min[CV] .......................... kernel=rbf, C=1, gamma=0.0001 - 4.8min[CV] .......................... kernel=rbf, C=1, gamma=0.0001 - 4.8min[CV] .......................... kernel=rbf, C=1, gamma=0.0001 - 4.6min[CV] .......................... kernel=rbf, C=1, gamma=0.0001 - 4.7min[CV] .......................... kernel=rbf, C=1, gamma=0.0001 - 4.8min[CV] .......................... kernel=rbf, C=10, gamma=0.001 - 5.1min[CV] .......................... kernel=rbf, C=10, gamma=0.001 - 5.1min\n",
      "\n",
      "\n",
      "\n",
      "\n",
      "\n",
      "\n",
      "\n",
      "\n",
      "\n",
      "\n",
      "\n",
      "[CV] kernel=rbf, C=10, gamma=0.0001 ..................................[CV] kernel=rbf, C=100, gamma=0.001 ..................................[CV] kernel=rbf, C=10, gamma=0.0001 ..................................[CV] kernel=rbf, C=10, gamma=0.0001 ..................................\n",
      "[CV] kernel=rbf, C=100, gamma=0.001 ..................................[CV] kernel=rbf, C=10, gamma=0.0001 ..................................\n",
      "[CV] kernel=rbf, C=10, gamma=0.0001 ..................................[CV] kernel=rbf, C=10, gamma=0.001 ...................................[CV] kernel=rbf, C=10, gamma=0.001 ...................................[CV] kernel=rbf, C=10, gamma=0.001 ...................................[CV] kernel=rbf, C=100, gamma=0.001 ..................................\n",
      "[CV] kernel=rbf, C=100, gamma=0.001 ..................................\n",
      "\n",
      "\n",
      "\n",
      "[CV] ......................... kernel=rbf, C=10, gamma=0.0001 - 4.6min\n",
      "[CV] ......................... kernel=rbf, C=10, gamma=0.0001 - 4.6min\n",
      "\n",
      "\n",
      "\n",
      "[CV] ......................... kernel=rbf, C=100, gamma=0.001 - 4.9min[CV] ......................... kernel=rbf, C=100, gamma=0.001 - 4.9min[CV] ......................... kernel=rbf, C=10, gamma=0.0001 - 4.6min[CV] ......................... kernel=rbf, C=100, gamma=0.001 - 4.9min[CV] ......................... kernel=rbf, C=10, gamma=0.0001 - 4.6min\n",
      "[CV] ......................... kernel=rbf, C=100, gamma=0.001 - 4.9min\n",
      "[CV] ......................... kernel=rbf, C=10, gamma=0.0001 - 4.5min[CV] .......................... kernel=rbf, C=10, gamma=0.001 - 4.9min[CV] .......................... kernel=rbf, C=10, gamma=0.001 - 4.9min[CV] .......................... kernel=rbf, C=10, gamma=0.001 - 4.9min\n",
      "\n",
      "\n",
      "\n",
      "\n",
      "[CV] kernel=rbf, C=100, gamma=0.0001 .................................\n",
      "[CV] kernel=rbf, C=100, gamma=0.001 ..................................\n",
      "\n",
      "\n",
      "\n",
      "[CV] kernel=poly, C=0.0001, degree=4 .................................\n",
      "[CV] kernel=poly, C=0.0001, degree=3 .................................[CV] kernel=poly, C=0.0001, degree=3 .................................\n",
      "[CV] kernel=poly, C=0.0001, degree=3 .................................[CV] kernel=rbf, C=100, gamma=0.0001 .................................\n",
      "\n",
      "[CV] kernel=poly, C=0.0001, degree=3 .................................\n",
      "[CV] kernel=rbf, C=100, gamma=0.0001 .................................\n",
      "[CV] kernel=rbf, C=100, gamma=0.0001 .................................[CV] kernel=rbf, C=100, gamma=0.0001 .................................\n",
      "[CV] kernel=poly, C=0.0001, degree=3 .................................\n",
      "[CV] ........................ kernel=poly, C=0.0001, degree=4 - 2.6min\n",
      "[CV] ........................ kernel=poly, C=0.0001, degree=3 - 3.8min\n",
      "[CV] ........................ kernel=rbf, C=100, gamma=0.0001 - 4.9min[CV] ........................ kernel=rbf, C=100, gamma=0.0001 - 5.0min\n",
      "[CV] ......................... kernel=rbf, C=100, gamma=0.001 - 5.3min[CV] ........................ kernel=rbf, C=100, gamma=0.0001 - 4.8min\n",
      "[CV] ........................ kernel=rbf, C=100, gamma=0.0001 - 4.9min[CV] ........................ kernel=poly, C=0.0001, degree=3 - 3.7min\n",
      "[CV] ........................ kernel=poly, C=0.0001, degree=3 - 3.4min\n",
      "[CV] ........................ kernel=poly, C=0.0001, degree=3 - 3.7min\n",
      "\n",
      "[CV] ........................ kernel=poly, C=0.0001, degree=3 - 3.6min\n",
      "\n",
      "[CV] ........................ kernel=rbf, C=100, gamma=0.0001 - 4.7min\n",
      "\n",
      "[CV] kernel=poly, C=0.0001, degree=4 .................................\n",
      "[CV] kernel=poly, C=0.0001, degree=4 .................................\n",
      "[CV] kernel=poly, C=0.01, degree=3 ...................................[CV] kernel=poly, C=0.01, degree=3 ...................................\n",
      "\n",
      "[CV] kernel=poly, C=0.01, degree=3 ...................................\n",
      "[CV] kernel=poly, C=0.0001, degree=5 .................................\n",
      "\n",
      "[CV] kernel=poly, C=0.0001, degree=5 .................................\n",
      "[CV] kernel=poly, C=0.0001, degree=4 .................................\n",
      "[CV] kernel=poly, C=0.0001, degree=4 .................................\n",
      "[CV] kernel=poly, C=0.0001, degree=5 .................................\n",
      "\n",
      "[CV] .......................... kernel=poly, C=0.01, degree=3 - 5.1min[CV] kernel=poly, C=0.0001, degree=5 .................................\n",
      "[CV] .......................... kernel=poly, C=0.01, degree=3 - 5.2min[CV] ........................ kernel=poly, C=0.0001, degree=5 - 3.0min[CV] kernel=poly, C=0.0001, degree=5 .................................\n",
      "[CV] ........................ kernel=poly, C=0.0001, degree=5 - 3.0min\n",
      "[CV] ........................ kernel=poly, C=0.0001, degree=4 - 2.8min\n",
      "[CV] ........................ kernel=poly, C=0.0001, degree=4 - 2.9min[CV] ........................ kernel=poly, C=0.0001, degree=5 - 2.9min[CV] .......................... kernel=poly, C=0.01, degree=3 - 5.1min\n",
      "[CV] ........................ kernel=poly, C=0.0001, degree=5 - 3.0min\n",
      "\n",
      "[CV] ........................ kernel=poly, C=0.0001, degree=5 - 3.0min\n",
      "[CV] ........................ kernel=poly, C=0.0001, degree=4 - 2.9min\n",
      "[CV] ........................ kernel=poly, C=0.0001, degree=4 - 2.9min\n",
      "\n",
      "\n",
      "[CV] kernel=poly, C=0.01, degree=5 ...................................\n",
      "[CV] kernel=poly, C=0.01, degree=5 ...................................[CV] kernel=poly, C=0.01, degree=4 ...................................\n",
      "[CV] kernel=poly, C=0.01, degree=5 ...................................\n",
      "[CV] kernel=poly, C=0.01, degree=3 ...................................\n",
      "[CV] kernel=poly, C=0.01, degree=4 ...................................[CV] kernel=poly, C=0.01, degree=4 ...................................[CV] kernel=poly, C=0.01, degree=5 ...................................\n",
      "[CV] kernel=poly, C=0.01, degree=4 ...................................\n",
      "\n",
      "\n",
      "[CV] kernel=poly, C=0.01, degree=5 ...................................\n",
      "[CV] kernel=poly, C=0.01, degree=3 ...................................\n",
      "[CV] kernel=poly, C=0.01, degree=4 ...................................\n",
      "\n",
      "\n",
      "[CV] .......................... kernel=poly, C=0.01, degree=5 - 4.0min[CV] .......................... kernel=poly, C=0.01, degree=4 - 4.7min[CV] .......................... kernel=poly, C=0.01, degree=5 - 4.0min[CV] .......................... kernel=poly, C=0.01, degree=4 - 4.1min\n",
      "[CV] .......................... kernel=poly, C=0.01, degree=5 - 3.3min\n",
      "[CV] .......................... kernel=poly, C=0.01, degree=3 - 4.9min\n",
      "[CV] .......................... kernel=poly, C=0.01, degree=4 - 4.0min[CV] .......................... kernel=poly, C=0.01, degree=4 - 4.3min[CV] .......................... kernel=poly, C=0.01, degree=5 - 3.9min\n",
      "\n",
      "\n",
      "\n",
      "[CV] .......................... kernel=poly, C=0.01, degree=5 - 3.3min\n",
      "[CV] .......................... kernel=poly, C=0.01, degree=3 - 5.3min\n",
      "[CV] .......................... kernel=poly, C=0.01, degree=4 - 4.7min\n",
      "\n",
      "\n",
      "[CV] kernel=poly, C=0.1, degree=5 ....................................[CV] kernel=poly, C=0.1, degree=4 ....................................[CV] kernel=poly, C=0.1, degree=5 ....................................[CV] kernel=poly, C=0.1, degree=4 ....................................\n",
      "[CV] kernel=poly, C=0.1, degree=3 ....................................\n",
      "[CV] kernel=poly, C=0.1, degree=3 ....................................\n",
      "[CV] kernel=poly, C=0.1, degree=3 ....................................[CV] kernel=poly, C=0.1, degree=3 ....................................[CV] kernel=poly, C=0.1, degree=4 ....................................\n",
      "\n",
      "\n",
      "\n",
      "[CV] kernel=poly, C=0.1, degree=3 ....................................\n",
      "[CV] kernel=poly, C=0.1, degree=4 ....................................\n",
      "[CV] kernel=poly, C=0.1, degree=4 ....................................\n",
      "\n",
      "\n",
      "[CV] ........................... kernel=poly, C=0.1, degree=5 - 2.6min[CV] ........................... kernel=poly, C=0.1, degree=4 - 5.1min[CV] ........................... kernel=poly, C=0.1, degree=5 - 2.6min[CV] ........................... kernel=poly, C=0.1, degree=4 - 4.6min\n",
      "[CV] ........................... kernel=poly, C=0.1, degree=3 - 5.4min\n",
      "[CV] ........................... kernel=poly, C=0.1, degree=3 - 5.5min\n",
      "[CV] ........................... kernel=poly, C=0.1, degree=3 - 5.5min[CV] ........................... kernel=poly, C=0.1, degree=3 - 5.4min[CV] ........................... kernel=poly, C=0.1, degree=4 - 3.2min\n",
      "\n",
      "\n",
      "\n",
      "[CV] ........................... kernel=poly, C=0.1, degree=3 - 5.5min\n",
      "[CV] ........................... kernel=poly, C=0.1, degree=4 - 5.0min\n",
      "[CV] ........................... kernel=poly, C=0.1, degree=4 - 5.4min\n",
      "\n",
      "\n",
      "\n",
      "[CV] kernel=poly, C=0.1, degree=5 ....................................\n",
      "\n",
      "[CV] kernel=poly, C=0.1, degree=5 ....................................\n",
      "[CV] kernel=poly, C=0.1, degree=5 ....................................\n",
      "[CV] ........................... kernel=poly, C=0.1, degree=5 - 1.3min\n",
      "[CV] ........................... kernel=poly, C=0.1, degree=5 - 1.3min\n",
      "[CV] ........................... kernel=poly, C=0.1, degree=5 - 1.4min\n",
      "\n"
     ]
    }
   ],
   "source": [
    "from sklearn import svm\n",
    "from sklearn.cross_validation import train_test_split\n",
    "from sklearn.grid_search import GridSearchCV\n",
    "from sklearn.metrics import classification_report\n",
    "from sklearn.svm import SVC\n",
    "\n",
    "X_train, X_test, y_train, y_test = train_test_split(train_projected, target , test_size=0.3, stratify = target)\n",
    "\n",
    "parameters = [{'kernel': ['rbf'], 'gamma': [1e-3, 1e-4],\n",
    "                     'C': [1, 10, 100]},\n",
    "                    {'kernel': ['poly'], 'degree': [3,4,5], 'C': [1e-4,1e-2,1e-1]}]\n",
    "grclf = GridSearchCV(svm.SVC(class_weight='balanced'), parameters, cv=5, verbose = 2, n_jobs=12)\n",
    "grclf.fit(X_train, y_train)\n",
    "\n",
    "print(\"Best parameters set found on development set:\")\n",
    "print()\n",
    "print(grclf.best_params_)\n",
    "print()\n",
    "print(\"Grid scores on development set:\")\n",
    "print()\n",
    "for params, mean_score, scores in grclf.grid_scores_:\n",
    "    print(\"%0.3f (+/-%0.03f) for %r\" % (mean_score, scores.std() * 2, params))"
   ]
  },
  {
   "cell_type": "code",
   "execution_count": 7,
   "metadata": {
    "collapsed": false
   },
   "outputs": [
    {
     "name": "stdout",
     "output_type": "stream",
     "text": [
      "             precision    recall  f1-score   support\n",
      "\n",
      "          0       0.00      0.00      0.00     21904\n",
      "          1       0.04      1.00      0.08       902\n",
      "\n",
      "avg / total       0.00      0.04      0.00     22806\n",
      "\n"
     ]
    },
    {
     "name": "stderr",
     "output_type": "stream",
     "text": [
      "/Users/bohun/anaconda/lib/python2.7/site-packages/sklearn/metrics/classification.py:1074: UndefinedMetricWarning: Precision and F-score are ill-defined and being set to 0.0 in labels with no predicted samples.\n",
      "  'precision', 'predicted', average, warn_for)\n"
     ]
    }
   ],
   "source": [
    "y_true, y_pred = y_test, grclf.predict(X_test)\n",
    "print(classification_report(y_true, y_pred))"
   ]
  },
  {
   "cell_type": "code",
   "execution_count": 14,
   "metadata": {
    "collapsed": false
   },
   "outputs": [
    {
     "name": "stdout",
     "output_type": "stream",
     "text": [
      "0.77626188597\n",
      "SVC(C=10, cache_size=200, class_weight='balanced', coef0=0.0,\n",
      "  decision_function_shape=None, degree=3, gamma=0.001, kernel='rbf',\n",
      "  max_iter=-1, probability=False, random_state=None, shrinking=True,\n",
      "  tol=0.001, verbose=False)\n"
     ]
    }
   ],
   "source": [
    "print grclf.best_score_ \n",
    "print grclf.best_estimator_"
   ]
  },
  {
   "cell_type": "code",
   "execution_count": 30,
   "metadata": {
    "collapsed": false
   },
   "outputs": [
    {
     "name": "stdout",
     "output_type": "stream",
     "text": [
      "(75818, 2)\n",
      "(75818, 3)\n",
      "(75818,)\n",
      "   ID        TARGET\n",
      "1   5  8.124306e-02\n",
      "2   6  8.170998e-02\n",
      "3   7  8.414321e-02\n",
      "4   9  8.231059e-02\n",
      "5  11  8.405969e-02\n",
      "6  12  3.344488e-15\n",
      "7  15  8.441928e-02\n",
      "8  16  3.520436e-02\n",
      "9  17  7.783856e-02\n"
     ]
    }
   ],
   "source": [
    "pred = gnb.predict_proba(test_projected)\n",
    "print pred.shape\n",
    "print test_projected.shape\n",
    "print y_ID.shape\n",
    "submission = pd.DataFrame({\"ID\":y_ID, \"TARGET\":np.array([y for (x,y) in pred])})\n",
    "submission.to_csv(\"/Users/bohun/Documents/kaggleproject/submission.csv\", index=False)\n",
    "print submission[1:10]"
   ]
  },
  {
   "cell_type": "code",
   "execution_count": 10,
   "metadata": {
    "collapsed": false
   },
   "outputs": [
    {
     "name": "stdout",
     "output_type": "stream",
     "text": [
      "Fitting 5 folds for each of 6 candidates, totalling 30 fits\n",
      "0.77626188597\n",
      "SVC(C=5, cache_size=200, class_weight='balanced', coef0=0.0,\n",
      "  decision_function_shape=None, degree=3, gamma=0.001, kernel='rbf',\n",
      "  max_iter=-1, probability=False, random_state=None, shrinking=True,\n",
      "  tol=0.001, verbose=False)\n",
      "[CV] kernel=rbf, C=0.1, gamma=0.001 ..................................\n",
      "[CV] kernel=rbf, C=0.1, gamma=0.001 ..................................\n",
      "[CV] kernel=rbf, C=0.1, gamma=0.001 ..................................\n",
      "[CV] kernel=rbf, C=0.1, gamma=0.001 ..................................\n",
      "[CV] kernel=rbf, C=0.1, gamma=0.001 ..................................\n",
      "[CV] kernel=rbf, C=0.1, gamma=0.01 ...................................\n",
      "[CV] kernel=rbf, C=0.1, gamma=0.01 ...................................\n",
      "[CV] kernel=rbf, C=0.1, gamma=0.01 ...................................\n",
      "[CV] kernel=rbf, C=0.1, gamma=0.01 ...................................\n",
      "[CV] kernel=rbf, C=0.1, gamma=0.01 ...................................\n",
      "[CV] kernel=rbf, C=0.5, gamma=0.001 ..................................\n",
      "[CV] kernel=rbf, C=0.5, gamma=0.001 ..................................\n",
      "[CV] kernel=rbf, C=0.5, gamma=0.001 ..................................\n",
      "[CV] kernel=rbf, C=0.5, gamma=0.001 ..................................\n",
      "[CV] kernel=rbf, C=0.5, gamma=0.001 ..................................\n",
      "[CV] kernel=rbf, C=0.5, gamma=0.01 ...................................\n",
      "[CV] kernel=rbf, C=0.5, gamma=0.01 ...................................\n",
      "[CV] kernel=rbf, C=0.5, gamma=0.01 ...................................\n",
      "[CV] kernel=rbf, C=0.5, gamma=0.01 ...................................\n",
      "[CV] kernel=rbf, C=0.5, gamma=0.01 ...................................\n",
      "[CV] kernel=rbf, C=5, gamma=0.001 ....................................\n",
      "[CV] kernel=rbf, C=5, gamma=0.001 ....................................\n",
      "[CV] kernel=rbf, C=5, gamma=0.001 ....................................\n",
      "[CV] kernel=rbf, C=5, gamma=0.001 ....................................\n",
      "[CV] kernel=rbf, C=5, gamma=0.001 ....................................\n",
      "[CV] kernel=rbf, C=5, gamma=0.01 .....................................\n",
      "[CV] kernel=rbf, C=5, gamma=0.01 .....................................\n",
      "[CV] kernel=rbf, C=5, gamma=0.01 .....................................\n",
      "[CV] kernel=rbf, C=5, gamma=0.01 .....................................\n",
      "[CV] kernel=rbf, C=5, gamma=0.01 .....................................\n",
      "[CV] ......................... kernel=rbf, C=0.1, gamma=0.001 -23.8min[CV] ......................... kernel=rbf, C=0.1, gamma=0.001 -24.1min[CV] ......................... kernel=rbf, C=0.1, gamma=0.001 -23.8min[CV] ......................... kernel=rbf, C=0.1, gamma=0.001 -23.7min[CV] ......................... kernel=rbf, C=0.1, gamma=0.001 -23.8min[CV] .......................... kernel=rbf, C=0.1, gamma=0.01 -23.9min[CV] .......................... kernel=rbf, C=0.1, gamma=0.01 -23.9min[CV] .......................... kernel=rbf, C=0.1, gamma=0.01 -24.1min[CV] .......................... kernel=rbf, C=0.1, gamma=0.01 -23.8min[CV] .......................... kernel=rbf, C=0.1, gamma=0.01 -23.8min[CV] ......................... kernel=rbf, C=0.5, gamma=0.001 -23.9min[CV] ......................... kernel=rbf, C=0.5, gamma=0.001 -24.1min[CV] ......................... kernel=rbf, C=0.5, gamma=0.001 -23.8min[CV] ......................... kernel=rbf, C=0.5, gamma=0.001 -23.8min[CV] ......................... kernel=rbf, C=0.5, gamma=0.001 -23.8min[CV] .......................... kernel=rbf, C=0.5, gamma=0.01 -23.9min[CV] .......................... kernel=rbf, C=0.5, gamma=0.01 -23.9min[CV] .......................... kernel=rbf, C=0.5, gamma=0.01 -23.9min[CV] .......................... kernel=rbf, C=0.5, gamma=0.01 -23.9min[CV] .......................... kernel=rbf, C=0.5, gamma=0.01 -23.9min[CV] ........................... kernel=rbf, C=5, gamma=0.001 -23.8min[CV] ........................... kernel=rbf, C=5, gamma=0.001 -24.0min[CV] ........................... kernel=rbf, C=5, gamma=0.001 -23.7min[CV] ........................... kernel=rbf, C=5, gamma=0.001 -23.8min[CV] ........................... kernel=rbf, C=5, gamma=0.001 -23.9min[CV] ............................ kernel=rbf, C=5, gamma=0.01 -23.9min[CV] ............................ kernel=rbf, C=5, gamma=0.01 -23.9min[CV] ............................ kernel=rbf, C=5, gamma=0.01 -24.0min[CV] ............................ kernel=rbf, C=5, gamma=0.01 -24.1min[CV] ............................ kernel=rbf, C=5, gamma=0.01 -24.1min\n",
      "\n",
      "\n",
      "\n",
      "\n",
      "\n",
      "\n",
      "\n",
      "\n",
      "\n",
      "\n",
      "\n",
      "\n",
      "\n",
      "\n",
      "\n",
      "\n",
      "\n",
      "\n",
      "\n",
      "\n",
      "\n",
      "\n",
      "\n",
      "\n",
      "\n",
      "\n",
      "\n",
      "\n",
      "\n"
     ]
    },
    {
     "name": "stderr",
     "output_type": "stream",
     "text": [
      "[Parallel(n_jobs=30)]: Done  30 out of  30 | elapsed: 24.1min finished\n"
     ]
    }
   ],
   "source": [
    "###NARROWED GRID###\n",
    "X_train, X_test, y_train, y_test = train_test_split(train_projected, target , test_size=0.3, stratify = target)\n",
    "\n",
    "narrowparameters = [{'kernel': ['rbf'], 'gamma': [1e-3, 1e-2],\n",
    "                     'C': [0.1, 0.5, 5]}]\n",
    "nrclf = GridSearchCV(svm.SVC(class_weight='balanced'), param_grid = narrowparameters, cv=5, verbose = 2, n_jobs=30)\n",
    "nrclf.fit(X_train, y_train)\n",
    "print nrclf.best_score_ \n",
    "print nrclf.best_estimator_\n"
   ]
  },
  {
   "cell_type": "code",
   "execution_count": 20,
   "metadata": {
    "collapsed": false
   },
   "outputs": [
    {
     "name": "stdout",
     "output_type": "stream",
     "text": [
      "0.77626188597\n",
      "SVC(C=5, cache_size=200, class_weight='balanced', coef0=0.0,\n",
      "  decision_function_shape=None, degree=3, gamma=0.001, kernel='rbf',\n",
      "  max_iter=-1, probability=False, random_state=None, shrinking=True,\n",
      "  tol=0.001, verbose=False)\n",
      "             precision    recall  f1-score   support\n",
      "\n",
      "          0       0.00      0.00      0.00     21904\n",
      "          1       0.04      1.00      0.08       902\n",
      "\n",
      "avg / total       0.00      0.04      0.00     22806\n",
      "\n"
     ]
    }
   ],
   "source": [
    "print grclf.best_score_ \n",
    "print grclf.best_estimator_\n",
    "y_true, y_pred = y_test, grclf.predict(X_test)\n",
    "print(classification_report(y_true, y_pred))"
   ]
  },
  {
   "cell_type": "code",
   "execution_count": 11,
   "metadata": {
    "collapsed": false
   },
   "outputs": [
    {
     "name": "stdout",
     "output_type": "stream",
     "text": [
      "0.77626188597\n",
      "SVC(C=5, cache_size=200, class_weight='balanced', coef0=0.0,\n",
      "  decision_function_shape=None, degree=3, gamma=0.001, kernel='rbf',\n",
      "  max_iter=-1, probability=False, random_state=None, shrinking=True,\n",
      "  tol=0.001, verbose=False)\n",
      "             precision    recall  f1-score   support\n",
      "\n",
      "          0       0.00      0.00      0.00     21904\n",
      "          1       0.04      1.00      0.08       902\n",
      "\n",
      "avg / total       0.00      0.04      0.00     22806\n",
      "\n"
     ]
    },
    {
     "name": "stderr",
     "output_type": "stream",
     "text": [
      "/Users/bohun/anaconda/lib/python2.7/site-packages/sklearn/metrics/classification.py:1074: UndefinedMetricWarning: Precision and F-score are ill-defined and being set to 0.0 in labels with no predicted samples.\n",
      "  'precision', 'predicted', average, warn_for)\n"
     ]
    }
   ],
   "source": [
    "print nrclf.best_score_ .\n",
    "print nrclf.best_estimator_\n",
    "y_true, y_pred = y_test, nrclf.predict(X_test)\n",
    "print(classification_report(y_true, y_pred))"
   ]
  },
  {
   "cell_type": "code",
   "execution_count": null,
   "metadata": {
    "collapsed": false
   },
   "outputs": [],
   "source": [
    "from sklearn import svm\n",
    "\n",
    "pred = svm.SVC(C=5, cache_size=200, class_weight='balanced', coef0=0.0,\n",
    "  decision_function_shape=None, degree=3, gamma=0.001, kernel='rbf',\n",
    "  max_iter=-1, probability=True, random_state=None, shrinking=True,\n",
    "  tol=0.001, verbose=False).fit(train_projected, target).predict_proba(test_projected)\n",
    "\n",
    "print pred.shape\n",
    "print test_projected.shape\n",
    "print y_ID.shape\n",
    "submission = pd.DataFrame({\"ID\":y_ID, \"TARGET\":np.array([y for (x,y) in pred])})\n",
    "submission.to_csv(\"/Users/bohun/Documents/kaggleproject/submission.csv\", index=False)\n",
    "print submission[1:10]"
   ]
  },
  {
   "cell_type": "code",
   "execution_count": null,
   "metadata": {
    "collapsed": true
   },
   "outputs": [],
   "source": []
  }
 ],
 "metadata": {
  "kernelspec": {
   "display_name": "Python 2",
   "language": "python",
   "name": "python2"
  },
  "language_info": {
   "codemirror_mode": {
    "name": "ipython",
    "version": 2
   },
   "file_extension": ".py",
   "mimetype": "text/x-python",
   "name": "python",
   "nbconvert_exporter": "python",
   "pygments_lexer": "ipython2",
   "version": "2.7.11"
  }
 },
 "nbformat": 4,
 "nbformat_minor": 0
}
