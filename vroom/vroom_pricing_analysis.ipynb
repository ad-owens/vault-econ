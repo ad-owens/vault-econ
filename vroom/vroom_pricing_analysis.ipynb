{
 "cells": [
  {
   "cell_type": "markdown",
   "metadata": {},
   "source": [
    "# Vroom Pricing Analysis"
   ]
  },
  {
   "cell_type": "code",
   "execution_count": 414,
   "metadata": {
    "collapsed": true
   },
   "outputs": [],
   "source": [
    "import plotly \n",
    "import numpy as np\n",
    "plotly.tools.set_credentials_file(username='crazysauce', api_key='p8s1f0pwcv')"
   ]
  },
  {
   "cell_type": "code",
   "execution_count": 395,
   "metadata": {
    "collapsed": false
   },
   "outputs": [
    {
     "data": {
      "text/html": [
       "<div>\n",
       "<table border=\"1\" class=\"dataframe\">\n",
       "  <thead>\n",
       "    <tr style=\"text-align: right;\">\n",
       "      <th></th>\n",
       "      <th>Unnamed: 0</th>\n",
       "      <th>vehicleid</th>\n",
       "      <th>vin</th>\n",
       "      <th>make</th>\n",
       "      <th>model</th>\n",
       "      <th>year</th>\n",
       "      <th>vehicle_trim</th>\n",
       "      <th>miles</th>\n",
       "      <th>price</th>\n",
       "      <th>pvs</th>\n",
       "      <th>styleID</th>\n",
       "      <th>usedTMVRetail</th>\n",
       "      <th>price_diff</th>\n",
       "    </tr>\n",
       "  </thead>\n",
       "  <tbody>\n",
       "    <tr>\n",
       "      <th>0</th>\n",
       "      <td>0</td>\n",
       "      <td>77221</td>\n",
       "      <td>1GYS3BKJ3FR227165</td>\n",
       "      <td>Cadillac</td>\n",
       "      <td>Escalade</td>\n",
       "      <td>2015</td>\n",
       "      <td>Luxury</td>\n",
       "      <td>34821</td>\n",
       "      <td>58980</td>\n",
       "      <td>161</td>\n",
       "      <td>200724942</td>\n",
       "      <td>61693</td>\n",
       "      <td>-2713</td>\n",
       "    </tr>\n",
       "    <tr>\n",
       "      <th>1</th>\n",
       "      <td>1</td>\n",
       "      <td>77301</td>\n",
       "      <td>JN1AZ0CP0BT007165</td>\n",
       "      <td>Nissan</td>\n",
       "      <td>LEAF</td>\n",
       "      <td>2011</td>\n",
       "      <td>SL</td>\n",
       "      <td>33795</td>\n",
       "      <td>7780</td>\n",
       "      <td>555</td>\n",
       "      <td>101300950</td>\n",
       "      <td>7803</td>\n",
       "      <td>-23</td>\n",
       "    </tr>\n",
       "    <tr>\n",
       "      <th>4</th>\n",
       "      <td>4</td>\n",
       "      <td>77607</td>\n",
       "      <td>TRUB3AFK7D1900415</td>\n",
       "      <td>Audi</td>\n",
       "      <td>TT RS</td>\n",
       "      <td>2013</td>\n",
       "      <td>2.5 quattro</td>\n",
       "      <td>26828</td>\n",
       "      <td>40480</td>\n",
       "      <td>273</td>\n",
       "      <td>200423953</td>\n",
       "      <td>42601</td>\n",
       "      <td>-2121</td>\n",
       "    </tr>\n",
       "    <tr>\n",
       "      <th>6</th>\n",
       "      <td>6</td>\n",
       "      <td>77847</td>\n",
       "      <td>WBAXG5C58DD229343</td>\n",
       "      <td>BMW</td>\n",
       "      <td>5 Series</td>\n",
       "      <td>2013</td>\n",
       "      <td>528i</td>\n",
       "      <td>47454</td>\n",
       "      <td>23480</td>\n",
       "      <td>125</td>\n",
       "      <td>200429165</td>\n",
       "      <td>27197</td>\n",
       "      <td>-3717</td>\n",
       "    </tr>\n",
       "    <tr>\n",
       "      <th>8</th>\n",
       "      <td>8</td>\n",
       "      <td>77914</td>\n",
       "      <td>WA1EFCFS1FR005382</td>\n",
       "      <td>Audi</td>\n",
       "      <td>Q3</td>\n",
       "      <td>2015</td>\n",
       "      <td>2.0T quattro Premium Plus</td>\n",
       "      <td>10320</td>\n",
       "      <td>30780</td>\n",
       "      <td>283</td>\n",
       "      <td>101254337</td>\n",
       "      <td>27876</td>\n",
       "      <td>2904</td>\n",
       "    </tr>\n",
       "    <tr>\n",
       "      <th>9</th>\n",
       "      <td>9</td>\n",
       "      <td>78163</td>\n",
       "      <td>WDCTG4GB9FJ094304</td>\n",
       "      <td>Mercedes-Benz</td>\n",
       "      <td>GLA</td>\n",
       "      <td>2015</td>\n",
       "      <td>GLA250 4MATIC</td>\n",
       "      <td>12536</td>\n",
       "      <td>29480</td>\n",
       "      <td>130</td>\n",
       "      <td>200706471</td>\n",
       "      <td>26202</td>\n",
       "      <td>3278</td>\n",
       "    </tr>\n",
       "    <tr>\n",
       "      <th>10</th>\n",
       "      <td>10</td>\n",
       "      <td>78326</td>\n",
       "      <td>5TFUW5F15DX276328</td>\n",
       "      <td>Toyota</td>\n",
       "      <td>Tundra</td>\n",
       "      <td>2013</td>\n",
       "      <td>Grade</td>\n",
       "      <td>51007</td>\n",
       "      <td>26480</td>\n",
       "      <td>271</td>\n",
       "      <td>200439178</td>\n",
       "      <td>24208</td>\n",
       "      <td>2272</td>\n",
       "    </tr>\n",
       "    <tr>\n",
       "      <th>11</th>\n",
       "      <td>11</td>\n",
       "      <td>78457</td>\n",
       "      <td>1ZVBP8CH0A5110813</td>\n",
       "      <td>Ford</td>\n",
       "      <td>Mustang</td>\n",
       "      <td>2010</td>\n",
       "      <td>GT Premium</td>\n",
       "      <td>16300</td>\n",
       "      <td>20980</td>\n",
       "      <td>231</td>\n",
       "      <td>101144375</td>\n",
       "      <td>19825</td>\n",
       "      <td>1155</td>\n",
       "    </tr>\n",
       "    <tr>\n",
       "      <th>12</th>\n",
       "      <td>12</td>\n",
       "      <td>78467</td>\n",
       "      <td>WDDPK7FAXDF068929</td>\n",
       "      <td>Mercedes-Benz</td>\n",
       "      <td>SLK</td>\n",
       "      <td>2013</td>\n",
       "      <td>SLK55 AMG</td>\n",
       "      <td>29228</td>\n",
       "      <td>42980</td>\n",
       "      <td>230</td>\n",
       "      <td>200433343</td>\n",
       "      <td>25348</td>\n",
       "      <td>17632</td>\n",
       "    </tr>\n",
       "    <tr>\n",
       "      <th>13</th>\n",
       "      <td>13</td>\n",
       "      <td>78487</td>\n",
       "      <td>WBAYB6C52DC998029</td>\n",
       "      <td>BMW</td>\n",
       "      <td>7 Series</td>\n",
       "      <td>2013</td>\n",
       "      <td>750i xDrive</td>\n",
       "      <td>45450</td>\n",
       "      <td>38480</td>\n",
       "      <td>85</td>\n",
       "      <td>200429884</td>\n",
       "      <td>41382</td>\n",
       "      <td>-2902</td>\n",
       "    </tr>\n",
       "  </tbody>\n",
       "</table>\n",
       "</div>"
      ],
      "text/plain": [
       "    Unnamed: 0  vehicleid                vin           make     model  year  \\\n",
       "0            0      77221  1GYS3BKJ3FR227165       Cadillac  Escalade  2015   \n",
       "1            1      77301  JN1AZ0CP0BT007165         Nissan      LEAF  2011   \n",
       "4            4      77607  TRUB3AFK7D1900415           Audi     TT RS  2013   \n",
       "6            6      77847  WBAXG5C58DD229343            BMW  5 Series  2013   \n",
       "8            8      77914  WA1EFCFS1FR005382           Audi        Q3  2015   \n",
       "9            9      78163  WDCTG4GB9FJ094304  Mercedes-Benz       GLA  2015   \n",
       "10          10      78326  5TFUW5F15DX276328         Toyota    Tundra  2013   \n",
       "11          11      78457  1ZVBP8CH0A5110813           Ford   Mustang  2010   \n",
       "12          12      78467  WDDPK7FAXDF068929  Mercedes-Benz       SLK  2013   \n",
       "13          13      78487  WBAYB6C52DC998029            BMW  7 Series  2013   \n",
       "\n",
       "                 vehicle_trim  miles  price  pvs    styleID  usedTMVRetail  \\\n",
       "0                      Luxury  34821  58980  161  200724942          61693   \n",
       "1                          SL  33795   7780  555  101300950           7803   \n",
       "4                 2.5 quattro  26828  40480  273  200423953          42601   \n",
       "6                        528i  47454  23480  125  200429165          27197   \n",
       "8   2.0T quattro Premium Plus  10320  30780  283  101254337          27876   \n",
       "9               GLA250 4MATIC  12536  29480  130  200706471          26202   \n",
       "10                      Grade  51007  26480  271  200439178          24208   \n",
       "11                 GT Premium  16300  20980  231  101144375          19825   \n",
       "12                  SLK55 AMG  29228  42980  230  200433343          25348   \n",
       "13                750i xDrive  45450  38480   85  200429884          41382   \n",
       "\n",
       "    price_diff  \n",
       "0        -2713  \n",
       "1          -23  \n",
       "4        -2121  \n",
       "6        -3717  \n",
       "8         2904  \n",
       "9         3278  \n",
       "10        2272  \n",
       "11        1155  \n",
       "12       17632  \n",
       "13       -2902  "
      ]
     },
     "execution_count": 395,
     "metadata": {},
     "output_type": "execute_result"
    }
   ],
   "source": [
    "df.head(10)"
   ]
  },
  {
   "cell_type": "code",
   "execution_count": 514,
   "metadata": {
    "collapsed": false
   },
   "outputs": [
    {
     "name": "stdout",
     "output_type": "stream",
     "text": [
      "      count     sum   min   max  mean  std\n",
      "year                                      \n",
      "2008      1    2008  2008  2008  2008  NaN\n",
      "2009      2    4018  2009  2009  2009    0\n",
      "2010      3    6030  2010  2010  2010    0\n",
      "2011      7   14077  2011  2011  2011    0\n",
      "2012      9   18108  2012  2012  2012    0\n",
      "2013     35   70455  2013  2013  2013    0\n",
      "2014     44   88616  2014  2014  2014    0\n",
      "2015     78  157170  2015  2015  2015    0\n",
      "2016     21   42336  2016  2016  2016    0\n"
     ]
    }
   ],
   "source": [
    "#Prep the data\n",
    "import pandas as pd\n",
    "df = pd.read_csv('vroom_pricecomp')\n",
    "df['price_diff'] = df['price'] - df['usedTMVRetail']\n",
    "df_pricecomp = df[['year','price','usedTMVRetail','price_diff','pvs']]\n",
    "\n",
    "group_mean = df_pricecomp.groupby(df_pricecomp.year).mean()\n",
    "\n",
    "print group['year'].agg(['count','sum','min','max','mean','std'])\n",
    "\n",
    "years = ['2008','2009','2010','2011','2012','2013','2014','2015','2016']"
   ]
  },
  {
   "cell_type": "code",
   "execution_count": 530,
   "metadata": {
    "collapsed": false
   },
   "outputs": [
    {
     "data": {
      "text/html": [
       "<iframe id=\"igraph\" scrolling=\"no\" style=\"border:none;\" seamless=\"seamless\" src=\"https://plot.ly/~crazysauce/7.embed\" height=\"525px\" width=\"100%\"></iframe>"
      ],
      "text/plain": [
       "<plotly.tools.PlotlyDisplay object>"
      ]
     },
     "execution_count": 530,
     "metadata": {},
     "output_type": "execute_result"
    }
   ],
   "source": [
    "import plotly.plotly as py\n",
    "from plotly.graph_objs import *\n",
    "\n",
    "trace0 = go.Bar(\n",
    "\n",
    "    name = 'Vroom Price',\n",
    "    x= years,\n",
    "    y= list(group_mean['price'])\n",
    ")\n",
    "trace1 = go.Bar(\n",
    "    name = 'Edmunds Price',\n",
    "    x= years,\n",
    "    y= list(group_mean['usedTMVRetail'])\n",
    ")\n",
    "data = [trace0, trace1]\n",
    "layout = go.Layout(\n",
    "    barmode='group'\n",
    ")\n",
    "\n",
    "fig = go.Figure(data=data, layout=layout)\n",
    "py.iplot(fig, filename='grouped-bar')\n"
   ]
  },
  {
   "cell_type": "code",
   "execution_count": null,
   "metadata": {
    "collapsed": true
   },
   "outputs": [],
   "source": []
  },
  {
   "cell_type": "code",
   "execution_count": null,
   "metadata": {
    "collapsed": true
   },
   "outputs": [],
   "source": []
  },
  {
   "cell_type": "code",
   "execution_count": 516,
   "metadata": {
    "collapsed": false
   },
   "outputs": [
    {
     "data": {
      "text/html": [
       "<iframe id=\"igraph\" scrolling=\"no\" style=\"border:none;\" seamless=\"seamless\" src=\"https://plot.ly/~crazysauce/7.embed\" height=\"525px\" width=\"100%\"></iframe>"
      ],
      "text/plain": [
       "<plotly.tools.PlotlyDisplay object>"
      ]
     },
     "execution_count": 516,
     "metadata": {},
     "output_type": "execute_result"
    }
   ],
   "source": [
    "df_make = df[['make','price','usedTMVRetail','price_diff','miles','pvs']]\n",
    "make_mean = df_make.groupby(df_make.make).mean().sort_values(by=['price'], ascending=[True])\n",
    "make = list(make_mean.index)\n",
    "\n",
    "trace0 = go.Bar(\n",
    "    name = 'Vroom Price',\n",
    "    x= make,\n",
    "    y= list(make_mean['price'])\n",
    ")\n",
    "trace1 = go.Bar(\n",
    "    name = 'Edmunds Price',\n",
    "    x= make,\n",
    "    y= list(make_mean['usedTMVRetail'])\n",
    ")\n",
    "data = [trace0, trace1]\n",
    "layout = go.Layout(\n",
    "    barmode='group'\n",
    ")\n",
    "\n",
    "fig = go.Figure(data=data, layout=layout)\n",
    "py.iplot(fig, filename='grouped-bar')"
   ]
  },
  {
   "cell_type": "code",
   "execution_count": null,
   "metadata": {
    "collapsed": true
   },
   "outputs": [],
   "source": []
  },
  {
   "cell_type": "code",
   "execution_count": 527,
   "metadata": {
    "collapsed": false,
    "scrolled": true
   },
   "outputs": [
    {
     "data": {
      "text/plain": [
       "<matplotlib.text.Text at 0x129b07350>"
      ]
     },
     "execution_count": 527,
     "metadata": {},
     "output_type": "execute_result"
    },
    {
     "data": {
      "image/png": "[encoded data removed]",
      "text/plain": [
       "<matplotlib.figure.Figure at 0x1296cf9d0>"
      ]
     },
     "metadata": {},
     "output_type": "display_data"
    }
   ],
   "source": [
    "import matplotlib.pyplot as plt\n",
    "import numpy as np\n",
    "import seaborn as sns\n",
    "\n",
    "fig = plt.figure(figsize=(7,7))\n",
    "sns.corrplot(df_total[['pvs','miles','price','usedTMVRetail','price_diff']])\n",
    "plt.title(\"Correlation Matrix Visualization\",fontsize=18)"
   ]
  },
  {
   "cell_type": "code",
   "execution_count": 534,
   "metadata": {
    "collapsed": false
   },
   "outputs": [
    {
     "data": {
      "text/html": [
       "<iframe id=\"igraph\" scrolling=\"no\" style=\"border:none;\" seamless=\"seamless\" src=\"https://plot.ly/~crazysauce/7.embed\" height=\"525px\" width=\"100%\"></iframe>"
      ],
      "text/plain": [
       "<plotly.tools.PlotlyDisplay object>"
      ]
     },
     "execution_count": 534,
     "metadata": {},
     "output_type": "execute_result"
    }
   ],
   "source": [
    "make_pvs = df_make.groupby(df_make.make).mean().sort_values(by=['price_diff'], ascending=[True])\n",
    "make = list(make_pvs.index)\n",
    "\n",
    "trace0 = go.Bar(\n",
    "    name = 'Page Views',\n",
    "    x= make,\n",
    "    y= list(make_pvs['pvs'])\n",
    ")\n",
    "trace1 = go.Bar(\n",
    "    name = 'Price Difference (Vroom Price - Edmunds Price)',\n",
    "    x= make,\n",
    "    y= list(make_pvs['price_diff'])\n",
    ")\n",
    "data = [trace0, trace1]\n",
    "layout = go.Layout(\n",
    "    barmode='group'\n",
    ")\n",
    "\n",
    "fig = go.Figure(data=data, layout=layout)\n",
    "py.iplot(fig, filename='grouped-bar')"
   ]
  },
  {
   "cell_type": "code",
   "execution_count": null,
   "metadata": {
    "collapsed": true
   },
   "outputs": [],
   "source": []
  },
  {
   "cell_type": "code",
   "execution_count": 535,
   "metadata": {
    "collapsed": false
   },
   "outputs": [
    {
     "data": {
      "text/html": [
       "<iframe id=\"igraph\" scrolling=\"no\" style=\"border:none;\" seamless=\"seamless\" src=\"https://plot.ly/~crazysauce/7.embed\" height=\"525px\" width=\"100%\"></iframe>"
      ],
      "text/plain": [
       "<plotly.tools.PlotlyDisplay object>"
      ]
     },
     "execution_count": 535,
     "metadata": {},
     "output_type": "execute_result"
    }
   ],
   "source": [
    "make_pvs = df_make.groupby(df_make.make).mean().sort_values(by=['pvs'], ascending=[True])\n",
    "make = list(make_pvs.index)\n",
    "\n",
    "trace0 = go.Bar(\n",
    "    name = 'Page Views',\n",
    "    x= make,\n",
    "    y= list(make_pvs['pvs'])\n",
    ")\n",
    "trace1 = go.Bar(\n",
    "    name = 'Price Difference (Vroom Price - Edmunds Price)',\n",
    "    x= make,\n",
    "    y= list(make_pvs['price_diff'])\n",
    ")\n",
    "data = [trace0, trace1]\n",
    "layout = go.Layout(\n",
    "    barmode='group'\n",
    ")\n",
    "\n",
    "fig = go.Figure(data=data, layout=layout)\n",
    "py.iplot(fig, filename='grouped-bar')"
   ]
  },
  {
   "cell_type": "code",
   "execution_count": 533,
   "metadata": {
    "collapsed": false
   },
   "outputs": [
    {
     "data": {
      "text/html": [
       "<iframe id=\"igraph\" scrolling=\"no\" style=\"border:none;\" seamless=\"seamless\" src=\"https://plot.ly/~crazysauce/9.embed\" height=\"525px\" width=\"100%\"></iframe>"
      ],
      "text/plain": [
       "<plotly.tools.PlotlyDisplay object>"
      ]
     },
     "execution_count": 533,
     "metadata": {},
     "output_type": "execute_result"
    }
   ],
   "source": [
    "trace = go.Scatter(\n",
    "    x = list(df['price_diff']),\n",
    "    y = list(df['pvs']),\n",
    "    mode = 'markers'\n",
    ")\n",
    "\n",
    "layout = go.Layout(\n",
    "    title='Price Differences/Page Views Comparison',\n",
    "    xaxis=dict(\n",
    "        title='Price Differences',\n",
    "        titlefont=dict(\n",
    "            family='Courier New, monospace',\n",
    "            size=18,\n",
    "            color='#7f7f7f'\n",
    "        )\n",
    "    ),\n",
    "    yaxis=dict(\n",
    "        title='Page Views',\n",
    "        titlefont=dict(\n",
    "            family='Courier New, monospace',\n",
    "            size=18,\n",
    "            color='#7f7f7f'\n",
    "        )\n",
    "    )\n",
    ")\n",
    "fig = go.Figure(data=[trace], layout=layout)\n",
    "\n",
    "py.iplot(fig, filename='basic-scatter')"
   ]
  },
  {
   "cell_type": "code",
   "execution_count": 410,
   "metadata": {
    "collapsed": false
   },
   "outputs": [],
   "source": [
    "from sklearn import linear_model\n",
    "\n",
    "df = df.dropna()\n",
    "make_dummy = df['make']\n",
    "year_dummy = df['year']\n",
    "make_dummy = pd.get_dummies(make_dummy)\n",
    "year_dummy = pd.get_dummies(year_dummy)\n",
    "features = df[['pvs','miles']]\n",
    "df_total = pd.concat([df, year_dummy, make_dummy],axis=1, join_axes=[features.index])\n",
    "X_vrm = pd.concat([features, year_dummy, make_dummy],axis=1, join_axes=[features.index])\n",
    "y_vrm = pd.Series(df.price_diff, name='Price_Difference')"
   ]
  },
  {
   "cell_type": "code",
   "execution_count": 392,
   "metadata": {
    "collapsed": false
   },
   "outputs": [
    {
     "data": {
      "text/html": [
       "<table class=\"simpletable\">\n",
       "<caption>OLS Regression Results</caption>\n",
       "<tr>\n",
       "  <th>Dep. Variable:</th>    <td>Price_Difference</td> <th>  R-squared:         </th> <td>   0.295</td>\n",
       "</tr>\n",
       "<tr>\n",
       "  <th>Model:</th>                   <td>OLS</td>       <th>  Adj. R-squared:    </th> <td>   0.073</td>\n",
       "</tr>\n",
       "<tr>\n",
       "  <th>Method:</th>             <td>Least Squares</td>  <th>  F-statistic:       </th> <td>   1.332</td>\n",
       "</tr>\n",
       "<tr>\n",
       "  <th>Date:</th>             <td>Sun, 05 Jun 2016</td> <th>  Prob (F-statistic):</th>  <td> 0.124</td> \n",
       "</tr>\n",
       "<tr>\n",
       "  <th>Time:</th>                 <td>17:47:19</td>     <th>  Log-Likelihood:    </th> <td> -1627.2</td>\n",
       "</tr>\n",
       "<tr>\n",
       "  <th>No. Observations:</th>      <td>   160</td>      <th>  AIC:               </th> <td>   3332.</td>\n",
       "</tr>\n",
       "<tr>\n",
       "  <th>Df Residuals:</th>          <td>   121</td>      <th>  BIC:               </th> <td>   3452.</td>\n",
       "</tr>\n",
       "<tr>\n",
       "  <th>Df Model:</th>              <td>    38</td>      <th>                     </th>     <td> </td>   \n",
       "</tr>\n",
       "<tr>\n",
       "  <th>Covariance Type:</th>      <td>nonrobust</td>    <th>                     </th>     <td> </td>   \n",
       "</tr>\n",
       "</table>\n",
       "<table class=\"simpletable\">\n",
       "<tr>\n",
       "        <td></td>           <th>coef</th>     <th>std err</th>      <th>t</th>      <th>P>|t|</th> <th>[95.0% Conf. Int.]</th> \n",
       "</tr>\n",
       "<tr>\n",
       "  <th>pvs</th>           <td>    3.0351</td> <td>    7.423</td> <td>    0.409</td> <td> 0.683</td> <td>  -11.660    17.730</td>\n",
       "</tr>\n",
       "<tr>\n",
       "  <th>miles</th>         <td>   -0.1297</td> <td>    0.054</td> <td>   -2.384</td> <td> 0.019</td> <td>   -0.237    -0.022</td>\n",
       "</tr>\n",
       "<tr>\n",
       "  <th>2008</th>          <td> 4205.3703</td> <td> 3941.612</td> <td>    1.067</td> <td> 0.288</td> <td>-3598.090   1.2e+04</td>\n",
       "</tr>\n",
       "<tr>\n",
       "  <th>2009</th>          <td> 8457.1255</td> <td> 5977.727</td> <td>    1.415</td> <td> 0.160</td> <td>-3377.361  2.03e+04</td>\n",
       "</tr>\n",
       "<tr>\n",
       "  <th>2010</th>          <td> 2237.4709</td> <td> 5700.887</td> <td>    0.392</td> <td> 0.695</td> <td>-9048.939  1.35e+04</td>\n",
       "</tr>\n",
       "<tr>\n",
       "  <th>2011</th>          <td> 5650.1284</td> <td> 4211.117</td> <td>    1.342</td> <td> 0.182</td> <td>-2686.889   1.4e+04</td>\n",
       "</tr>\n",
       "<tr>\n",
       "  <th>2012</th>          <td> 4251.0380</td> <td> 3427.438</td> <td>    1.240</td> <td> 0.217</td> <td>-2534.480   1.1e+04</td>\n",
       "</tr>\n",
       "<tr>\n",
       "  <th>2013</th>          <td> 6167.7956</td> <td> 2240.026</td> <td>    2.753</td> <td> 0.007</td> <td> 1733.074  1.06e+04</td>\n",
       "</tr>\n",
       "<tr>\n",
       "  <th>2014</th>          <td> 2661.9540</td> <td> 1892.963</td> <td>    1.406</td> <td> 0.162</td> <td>-1085.665  6409.573</td>\n",
       "</tr>\n",
       "<tr>\n",
       "  <th>2015</th>          <td> 2887.6295</td> <td> 1604.924</td> <td>    1.799</td> <td> 0.074</td> <td> -289.740  6064.999</td>\n",
       "</tr>\n",
       "<tr>\n",
       "  <th>2016</th>          <td>-2569.5933</td> <td> 2851.031</td> <td>   -0.901</td> <td> 0.369</td> <td>-8213.962  3074.776</td>\n",
       "</tr>\n",
       "<tr>\n",
       "  <th>Acura</th>         <td>-2555.7062</td> <td> 4224.377</td> <td>   -0.605</td> <td> 0.546</td> <td>-1.09e+04  5807.561</td>\n",
       "</tr>\n",
       "<tr>\n",
       "  <th>Audi</th>          <td>-2631.0489</td> <td> 2722.869</td> <td>   -0.966</td> <td> 0.336</td> <td>-8021.687  2759.589</td>\n",
       "</tr>\n",
       "<tr>\n",
       "  <th>BMW</th>           <td> -635.6789</td> <td> 2584.111</td> <td>   -0.246</td> <td> 0.806</td> <td>-5751.608  4480.250</td>\n",
       "</tr>\n",
       "<tr>\n",
       "  <th>Buick</th>         <td>-2818.4637</td> <td> 5098.490</td> <td>   -0.553</td> <td> 0.581</td> <td>-1.29e+04  7275.341</td>\n",
       "</tr>\n",
       "<tr>\n",
       "  <th>Cadillac</th>      <td>  328.0285</td> <td> 3767.687</td> <td>    0.087</td> <td> 0.931</td> <td>-7131.102  7787.159</td>\n",
       "</tr>\n",
       "<tr>\n",
       "  <th>Chevrolet</th>     <td>  478.4534</td> <td> 1834.722</td> <td>    0.261</td> <td> 0.795</td> <td>-3153.863  4110.770</td>\n",
       "</tr>\n",
       "<tr>\n",
       "  <th>Chrysler</th>      <td>-2595.4782</td> <td> 5130.366</td> <td>   -0.506</td> <td> 0.614</td> <td>-1.28e+04  7561.435</td>\n",
       "</tr>\n",
       "<tr>\n",
       "  <th>Dodge</th>         <td> 1818.3345</td> <td> 2385.298</td> <td>    0.762</td> <td> 0.447</td> <td>-2903.992  6540.661</td>\n",
       "</tr>\n",
       "<tr>\n",
       "  <th>Ford</th>          <td> 8090.4022</td> <td> 1743.942</td> <td>    4.639</td> <td> 0.000</td> <td> 4637.810  1.15e+04</td>\n",
       "</tr>\n",
       "<tr>\n",
       "  <th>GMC</th>           <td> 8597.4414</td> <td> 2888.782</td> <td>    2.976</td> <td> 0.004</td> <td> 2878.335  1.43e+04</td>\n",
       "</tr>\n",
       "<tr>\n",
       "  <th>Honda</th>         <td> 1963.5774</td> <td> 3421.265</td> <td>    0.574</td> <td> 0.567</td> <td>-4809.720  8736.874</td>\n",
       "</tr>\n",
       "<tr>\n",
       "  <th>Hyundai</th>       <td> 1784.3899</td> <td> 4178.093</td> <td>    0.427</td> <td> 0.670</td> <td>-6487.247  1.01e+04</td>\n",
       "</tr>\n",
       "<tr>\n",
       "  <th>Infiniti</th>      <td>-2442.2545</td> <td> 2865.720</td> <td>   -0.852</td> <td> 0.396</td> <td>-8115.703  3231.194</td>\n",
       "</tr>\n",
       "<tr>\n",
       "  <th>Jaguar</th>        <td> 1.522e+04</td> <td> 7198.359</td> <td>    2.115</td> <td> 0.036</td> <td>  973.049  2.95e+04</td>\n",
       "</tr>\n",
       "<tr>\n",
       "  <th>Jeep</th>          <td> 2486.2865</td> <td> 2853.999</td> <td>    0.871</td> <td> 0.385</td> <td>-3163.958  8136.531</td>\n",
       "</tr>\n",
       "<tr>\n",
       "  <th>Kia</th>           <td>  -87.7579</td> <td> 4308.533</td> <td>   -0.020</td> <td> 0.984</td> <td>-8617.635  8442.120</td>\n",
       "</tr>\n",
       "<tr>\n",
       "  <th>Lexus</th>         <td>  268.8028</td> <td> 3648.049</td> <td>    0.074</td> <td> 0.941</td> <td>-6953.473  7491.079</td>\n",
       "</tr>\n",
       "<tr>\n",
       "  <th>Lincoln</th>       <td> -139.0580</td> <td> 3710.777</td> <td>   -0.037</td> <td> 0.970</td> <td>-7485.521  7207.405</td>\n",
       "</tr>\n",
       "<tr>\n",
       "  <th>Mazda</th>         <td>-3926.4732</td> <td> 7527.884</td> <td>   -0.522</td> <td> 0.603</td> <td>-1.88e+04   1.1e+04</td>\n",
       "</tr>\n",
       "<tr>\n",
       "  <th>Mercedes-Benz</th> <td> 4251.6480</td> <td> 2586.463</td> <td>    1.644</td> <td> 0.103</td> <td> -868.937  9372.233</td>\n",
       "</tr>\n",
       "<tr>\n",
       "  <th>Nissan</th>        <td>-1960.6738</td> <td> 4405.641</td> <td>   -0.445</td> <td> 0.657</td> <td>-1.07e+04  6761.454</td>\n",
       "</tr>\n",
       "<tr>\n",
       "  <th>Porsche</th>       <td> -605.3892</td> <td> 4429.131</td> <td>   -0.137</td> <td> 0.892</td> <td>-9374.022  8163.244</td>\n",
       "</tr>\n",
       "<tr>\n",
       "  <th>Ram</th>           <td> 7651.9676</td> <td> 3111.210</td> <td>    2.459</td> <td> 0.015</td> <td> 1492.506  1.38e+04</td>\n",
       "</tr>\n",
       "<tr>\n",
       "  <th>Scion</th>         <td> -666.2303</td> <td> 5175.889</td> <td>   -0.129</td> <td> 0.898</td> <td>-1.09e+04  9580.808</td>\n",
       "</tr>\n",
       "<tr>\n",
       "  <th>Smart</th>         <td> 4205.3703</td> <td> 3941.612</td> <td>    1.067</td> <td> 0.288</td> <td>-3598.090   1.2e+04</td>\n",
       "</tr>\n",
       "<tr>\n",
       "  <th>Subaru</th>        <td>-4122.7496</td> <td> 5244.283</td> <td>   -0.786</td> <td> 0.433</td> <td>-1.45e+04  6259.692</td>\n",
       "</tr>\n",
       "<tr>\n",
       "  <th>Tesla</th>         <td>-1102.2829</td> <td> 9099.041</td> <td>   -0.121</td> <td> 0.904</td> <td>-1.91e+04  1.69e+04</td>\n",
       "</tr>\n",
       "<tr>\n",
       "  <th>Toyota</th>        <td> 3031.9512</td> <td> 3028.659</td> <td>    1.001</td> <td> 0.319</td> <td>-2964.078  9027.980</td>\n",
       "</tr>\n",
       "<tr>\n",
       "  <th>Volkswagen</th>    <td>  223.1045</td> <td> 7191.933</td> <td>    0.031</td> <td> 0.975</td> <td> -1.4e+04  1.45e+04</td>\n",
       "</tr>\n",
       "<tr>\n",
       "  <th>Volvo</th>         <td> -165.6945</td> <td> 5254.161</td> <td>   -0.032</td> <td> 0.975</td> <td>-1.06e+04  1.02e+04</td>\n",
       "</tr>\n",
       "</table>\n",
       "<table class=\"simpletable\">\n",
       "<tr>\n",
       "  <th>Omnibus:</th>       <td>16.029</td> <th>  Durbin-Watson:     </th> <td>   2.004</td>\n",
       "</tr>\n",
       "<tr>\n",
       "  <th>Prob(Omnibus):</th> <td> 0.000</td> <th>  Jarque-Bera (JB):  </th> <td>  55.466</td>\n",
       "</tr>\n",
       "<tr>\n",
       "  <th>Skew:</th>          <td> 0.100</td> <th>  Prob(JB):          </th> <td>9.03e-13</td>\n",
       "</tr>\n",
       "<tr>\n",
       "  <th>Kurtosis:</th>      <td> 5.877</td> <th>  Cond. No.          </th> <td>1.93e+19</td>\n",
       "</tr>\n",
       "</table>"
      ],
      "text/plain": [
       "<class 'statsmodels.iolib.summary.Summary'>\n",
       "\"\"\"\n",
       "                            OLS Regression Results                            \n",
       "==============================================================================\n",
       "Dep. Variable:       Price_Difference   R-squared:                       0.295\n",
       "Model:                            OLS   Adj. R-squared:                  0.073\n",
       "Method:                 Least Squares   F-statistic:                     1.332\n",
       "Date:                Sun, 05 Jun 2016   Prob (F-statistic):              0.124\n",
       "Time:                        17:47:19   Log-Likelihood:                -1627.2\n",
       "No. Observations:                 160   AIC:                             3332.\n",
       "Df Residuals:                     121   BIC:                             3452.\n",
       "Df Model:                          38                                         \n",
       "Covariance Type:            nonrobust                                         \n",
       "=================================================================================\n",
       "                    coef    std err          t      P>|t|      [95.0% Conf. Int.]\n",
       "---------------------------------------------------------------------------------\n",
       "pvs               3.0351      7.423      0.409      0.683       -11.660    17.730\n",
       "miles            -0.1297      0.054     -2.384      0.019        -0.237    -0.022\n",
       "2008           4205.3703   3941.612      1.067      0.288     -3598.090   1.2e+04\n",
       "2009           8457.1255   5977.727      1.415      0.160     -3377.361  2.03e+04\n",
       "2010           2237.4709   5700.887      0.392      0.695     -9048.939  1.35e+04\n",
       "2011           5650.1284   4211.117      1.342      0.182     -2686.889   1.4e+04\n",
       "2012           4251.0380   3427.438      1.240      0.217     -2534.480   1.1e+04\n",
       "2013           6167.7956   2240.026      2.753      0.007      1733.074  1.06e+04\n",
       "2014           2661.9540   1892.963      1.406      0.162     -1085.665  6409.573\n",
       "2015           2887.6295   1604.924      1.799      0.074      -289.740  6064.999\n",
       "2016          -2569.5933   2851.031     -0.901      0.369     -8213.962  3074.776\n",
       "Acura         -2555.7062   4224.377     -0.605      0.546     -1.09e+04  5807.561\n",
       "Audi          -2631.0489   2722.869     -0.966      0.336     -8021.687  2759.589\n",
       "BMW            -635.6789   2584.111     -0.246      0.806     -5751.608  4480.250\n",
       "Buick         -2818.4637   5098.490     -0.553      0.581     -1.29e+04  7275.341\n",
       "Cadillac        328.0285   3767.687      0.087      0.931     -7131.102  7787.159\n",
       "Chevrolet       478.4534   1834.722      0.261      0.795     -3153.863  4110.770\n",
       "Chrysler      -2595.4782   5130.366     -0.506      0.614     -1.28e+04  7561.435\n",
       "Dodge          1818.3345   2385.298      0.762      0.447     -2903.992  6540.661\n",
       "Ford           8090.4022   1743.942      4.639      0.000      4637.810  1.15e+04\n",
       "GMC            8597.4414   2888.782      2.976      0.004      2878.335  1.43e+04\n",
       "Honda          1963.5774   3421.265      0.574      0.567     -4809.720  8736.874\n",
       "Hyundai        1784.3899   4178.093      0.427      0.670     -6487.247  1.01e+04\n",
       "Infiniti      -2442.2545   2865.720     -0.852      0.396     -8115.703  3231.194\n",
       "Jaguar         1.522e+04   7198.359      2.115      0.036       973.049  2.95e+04\n",
       "Jeep           2486.2865   2853.999      0.871      0.385     -3163.958  8136.531\n",
       "Kia             -87.7579   4308.533     -0.020      0.984     -8617.635  8442.120\n",
       "Lexus           268.8028   3648.049      0.074      0.941     -6953.473  7491.079\n",
       "Lincoln        -139.0580   3710.777     -0.037      0.970     -7485.521  7207.405\n",
       "Mazda         -3926.4732   7527.884     -0.522      0.603     -1.88e+04   1.1e+04\n",
       "Mercedes-Benz  4251.6480   2586.463      1.644      0.103      -868.937  9372.233\n",
       "Nissan        -1960.6738   4405.641     -0.445      0.657     -1.07e+04  6761.454\n",
       "Porsche        -605.3892   4429.131     -0.137      0.892     -9374.022  8163.244\n",
       "Ram            7651.9676   3111.210      2.459      0.015      1492.506  1.38e+04\n",
       "Scion          -666.2303   5175.889     -0.129      0.898     -1.09e+04  9580.808\n",
       "Smart          4205.3703   3941.612      1.067      0.288     -3598.090   1.2e+04\n",
       "Subaru        -4122.7496   5244.283     -0.786      0.433     -1.45e+04  6259.692\n",
       "Tesla         -1102.2829   9099.041     -0.121      0.904     -1.91e+04  1.69e+04\n",
       "Toyota         3031.9512   3028.659      1.001      0.319     -2964.078  9027.980\n",
       "Volkswagen      223.1045   7191.933      0.031      0.975      -1.4e+04  1.45e+04\n",
       "Volvo          -165.6945   5254.161     -0.032      0.975     -1.06e+04  1.02e+04\n",
       "==============================================================================\n",
       "Omnibus:                       16.029   Durbin-Watson:                   2.004\n",
       "Prob(Omnibus):                  0.000   Jarque-Bera (JB):               55.466\n",
       "Skew:                           0.100   Prob(JB):                     9.03e-13\n",
       "Kurtosis:                       5.877   Cond. No.                     1.93e+19\n",
       "==============================================================================\n",
       "\n",
       "Warnings:\n",
       "[1] Standard Errors assume that the covariance matrix of the errors is correctly specified.\n",
       "[2] The smallest eigenvalue is 3.08e-28. This might indicate that there are\n",
       "strong multicollinearity problems or that the design matrix is singular.\n",
       "\"\"\""
      ]
     },
     "execution_count": 392,
     "metadata": {},
     "output_type": "execute_result"
    }
   ],
   "source": [
    "from sklearn import linear_model\n",
    "import numpy as np\n",
    "import statsmodels.api as sm\n",
    "\n",
    "model = sm.OLS(y_vrm, X_vrm).fit()\n",
    "model.summary()\n"
   ]
  },
  {
   "cell_type": "code",
   "execution_count": 394,
   "metadata": {
    "collapsed": false
   },
   "outputs": [
    {
     "data": {
      "text/html": [
       "<table class=\"simpletable\">\n",
       "<caption>OLS Regression Results</caption>\n",
       "<tr>\n",
       "  <th>Dep. Variable:</th>    <td>Price_Difference</td> <th>  R-squared:         </th> <td>   0.061</td>\n",
       "</tr>\n",
       "<tr>\n",
       "  <th>Model:</th>                   <td>OLS</td>       <th>  Adj. R-squared:    </th> <td>   0.055</td>\n",
       "</tr>\n",
       "<tr>\n",
       "  <th>Method:</th>             <td>Least Squares</td>  <th>  F-statistic:       </th> <td>   10.32</td>\n",
       "</tr>\n",
       "<tr>\n",
       "  <th>Date:</th>             <td>Sun, 05 Jun 2016</td> <th>  Prob (F-statistic):</th>  <td>0.00159</td>\n",
       "</tr>\n",
       "<tr>\n",
       "  <th>Time:</th>                 <td>17:49:49</td>     <th>  Log-Likelihood:    </th> <td> -1660.6</td>\n",
       "</tr>\n",
       "<tr>\n",
       "  <th>No. Observations:</th>      <td>   160</td>      <th>  AIC:               </th> <td>   3323.</td>\n",
       "</tr>\n",
       "<tr>\n",
       "  <th>Df Residuals:</th>          <td>   159</td>      <th>  BIC:               </th> <td>   3326.</td>\n",
       "</tr>\n",
       "<tr>\n",
       "  <th>Df Model:</th>              <td>     1</td>      <th>                     </th>     <td> </td>   \n",
       "</tr>\n",
       "<tr>\n",
       "  <th>Covariance Type:</th>      <td>nonrobust</td>    <th>                     </th>     <td> </td>   \n",
       "</tr>\n",
       "</table>\n",
       "<table class=\"simpletable\">\n",
       "<tr>\n",
       "   <td></td>      <th>coef</th>     <th>std err</th>      <th>t</th>      <th>P>|t|</th> <th>[95.0% Conf. Int.]</th> \n",
       "</tr>\n",
       "<tr>\n",
       "  <th>pvs</th> <td>   11.0300</td> <td>    3.434</td> <td>    3.212</td> <td> 0.002</td> <td>    4.249    17.811</td>\n",
       "</tr>\n",
       "</table>\n",
       "<table class=\"simpletable\">\n",
       "<tr>\n",
       "  <th>Omnibus:</th>       <td>19.782</td> <th>  Durbin-Watson:     </th> <td>   1.825</td>\n",
       "</tr>\n",
       "<tr>\n",
       "  <th>Prob(Omnibus):</th> <td> 0.000</td> <th>  Jarque-Bera (JB):  </th> <td>  43.486</td>\n",
       "</tr>\n",
       "<tr>\n",
       "  <th>Skew:</th>          <td> 0.518</td> <th>  Prob(JB):          </th> <td>3.61e-10</td>\n",
       "</tr>\n",
       "<tr>\n",
       "  <th>Kurtosis:</th>      <td> 5.335</td> <th>  Cond. No.          </th> <td>    1.00</td>\n",
       "</tr>\n",
       "</table>"
      ],
      "text/plain": [
       "<class 'statsmodels.iolib.summary.Summary'>\n",
       "\"\"\"\n",
       "                            OLS Regression Results                            \n",
       "==============================================================================\n",
       "Dep. Variable:       Price_Difference   R-squared:                       0.061\n",
       "Model:                            OLS   Adj. R-squared:                  0.055\n",
       "Method:                 Least Squares   F-statistic:                     10.32\n",
       "Date:                Sun, 05 Jun 2016   Prob (F-statistic):            0.00159\n",
       "Time:                        17:49:49   Log-Likelihood:                -1660.6\n",
       "No. Observations:                 160   AIC:                             3323.\n",
       "Df Residuals:                     159   BIC:                             3326.\n",
       "Df Model:                           1                                         \n",
       "Covariance Type:            nonrobust                                         \n",
       "==============================================================================\n",
       "                 coef    std err          t      P>|t|      [95.0% Conf. Int.]\n",
       "------------------------------------------------------------------------------\n",
       "pvs           11.0300      3.434      3.212      0.002         4.249    17.811\n",
       "==============================================================================\n",
       "Omnibus:                       19.782   Durbin-Watson:                   1.825\n",
       "Prob(Omnibus):                  0.000   Jarque-Bera (JB):               43.486\n",
       "Skew:                           0.518   Prob(JB):                     3.61e-10\n",
       "Kurtosis:                       5.335   Cond. No.                         1.00\n",
       "==============================================================================\n",
       "\n",
       "Warnings:\n",
       "[1] Standard Errors assume that the covariance matrix of the errors is correctly specified.\n",
       "\"\"\""
      ]
     },
     "execution_count": 394,
     "metadata": {},
     "output_type": "execute_result"
    }
   ],
   "source": [
    "model2 = sm.OLS(y_vrm, X_vrm['pvs']).fit()\n",
    "model2.summary()"
   ]
  },
  {
   "cell_type": "code",
   "execution_count": 493,
   "metadata": {
    "collapsed": false
   },
   "outputs": [],
   "source": [
    "import xgboost as xgb\n",
    "from xgboost.sklearn import XGBClassifier\n",
    "from sklearn import cross_validation, metrics   \n",
    "from sklearn.grid_search import GridSearchCV\n",
    "\n",
    "train = pd.concat([X_vrm, y_vrm],axis=1, join_axes=[X_vrm.index])\n",
    "target = 'Price_Difference'"
   ]
  },
  {
   "cell_type": "code",
   "execution_count": 494,
   "metadata": {
    "collapsed": true
   },
   "outputs": [],
   "source": [
    "def modelfit(alg, target,dtrain, predictors, useTrainCV=True, cv_folds=5, early_stopping_rounds=25):\n",
    "    \n",
    "    if useTrainCV:\n",
    "        xgb_param = alg.get_xgb_params()\n",
    "        xgtrain = xgb.DMatrix(dtrain[predictors].values, label=dtrain[target].values)\n",
    "        cvresult = xgb.cv(xgb_param, xgtrain, num_boost_round=alg.get_params()['n_estimators'], nfold=cv_folds,\n",
    "            metrics='auc', early_stopping_rounds=early_stopping_rounds, show_progress=False)\n",
    "        alg.set_params(n_estimators=cvresult.shape[0])\n",
    "    \n",
    "    #Fit the algorithm on the data\n",
    "    alg.fit(dtrain[predictors], dtrain[target],eval_metric='auc')\n",
    "        \n",
    "    #Predict training set:\n",
    "    dtrain_predictions = alg.predict(dtrain[predictors])\n",
    "    dtrain_predprob = alg.predict_proba(dtrain[predictors])[:,1]\n",
    "        \n",
    "    #Print model report:\n",
    "    print \"\\nModel Report\"\n",
    "    print \"Accuracy : %.4g\" % metrics.accuracy_score(dtrain[target].values, dtrain_predictions)\n",
    "    print \"AUC Score (Train): %f\" % metrics.roc_auc_score(dtrain[target], dtrain_predprob)\n",
    "                    \n",
    "    feat_imp = pd.Series(alg.booster().get_fscore()).sort_values(ascending=False)\n",
    "    feat_imp.plot(kind='bar', title='Feature Importances')\n",
    "    plt.ylabel('Feature Importance Score')"
   ]
  },
  {
   "cell_type": "code",
   "execution_count": 495,
   "metadata": {
    "collapsed": false
   },
   "outputs": [
    {
     "ename": "ValueError",
     "evalue": "Check your params.Early stopping works with single eval metric only.",
     "output_type": "error",
     "traceback": [
      "\u001b[0;31m---------------------------------------------------------------------------\u001b[0m",
      "\u001b[0;31mValueError\u001b[0m                                Traceback (most recent call last)",
      "\u001b[0;32m<ipython-input-495-daf2216f3d63>\u001b[0m in \u001b[0;36m<module>\u001b[0;34m()\u001b[0m\n\u001b[1;32m     14\u001b[0m  seed=5)\n\u001b[1;32m     15\u001b[0m \u001b[0;34m\u001b[0m\u001b[0m\n\u001b[0;32m---> 16\u001b[0;31m \u001b[0mmodelfit\u001b[0m\u001b[0;34m(\u001b[0m\u001b[0mxgb1\u001b[0m\u001b[0;34m,\u001b[0m \u001b[0mtarget\u001b[0m\u001b[0;34m,\u001b[0m \u001b[0mtrain\u001b[0m\u001b[0;34m,\u001b[0m \u001b[0mpredictors\u001b[0m\u001b[0;34m)\u001b[0m\u001b[0;34m\u001b[0m\u001b[0m\n\u001b[0m",
      "\u001b[0;32m<ipython-input-494-0b7a6024711a>\u001b[0m in \u001b[0;36mmodelfit\u001b[0;34m(alg, target, dtrain, predictors, useTrainCV, cv_folds, early_stopping_rounds)\u001b[0m\n\u001b[1;32m      5\u001b[0m         \u001b[0mxgtrain\u001b[0m \u001b[0;34m=\u001b[0m \u001b[0mxgb\u001b[0m\u001b[0;34m.\u001b[0m\u001b[0mDMatrix\u001b[0m\u001b[0;34m(\u001b[0m\u001b[0mdtrain\u001b[0m\u001b[0;34m[\u001b[0m\u001b[0mpredictors\u001b[0m\u001b[0;34m]\u001b[0m\u001b[0;34m.\u001b[0m\u001b[0mvalues\u001b[0m\u001b[0;34m,\u001b[0m \u001b[0mlabel\u001b[0m\u001b[0;34m=\u001b[0m\u001b[0mdtrain\u001b[0m\u001b[0;34m[\u001b[0m\u001b[0mtarget\u001b[0m\u001b[0;34m]\u001b[0m\u001b[0;34m.\u001b[0m\u001b[0mvalues\u001b[0m\u001b[0;34m)\u001b[0m\u001b[0;34m\u001b[0m\u001b[0m\n\u001b[1;32m      6\u001b[0m         cvresult = xgb.cv(xgb_param, xgtrain, num_boost_round=alg.get_params()['n_estimators'], nfold=cv_folds,\n\u001b[0;32m----> 7\u001b[0;31m             metrics='auc', early_stopping_rounds=early_stopping_rounds, show_progress=False)\n\u001b[0m\u001b[1;32m      8\u001b[0m         \u001b[0malg\u001b[0m\u001b[0;34m.\u001b[0m\u001b[0mset_params\u001b[0m\u001b[0;34m(\u001b[0m\u001b[0mn_estimators\u001b[0m\u001b[0;34m=\u001b[0m\u001b[0mcvresult\u001b[0m\u001b[0;34m.\u001b[0m\u001b[0mshape\u001b[0m\u001b[0;34m[\u001b[0m\u001b[0;36m0\u001b[0m\u001b[0;34m]\u001b[0m\u001b[0;34m)\u001b[0m\u001b[0;34m\u001b[0m\u001b[0m\n\u001b[1;32m      9\u001b[0m \u001b[0;34m\u001b[0m\u001b[0m\n",
      "\u001b[0;32m/Users/adamowens/anaconda/lib/python2.7/site-packages/xgboost/training.pyc\u001b[0m in \u001b[0;36mcv\u001b[0;34m(params, dtrain, num_boost_round, nfold, metrics, obj, feval, maximize, early_stopping_rounds, fpreproc, as_pandas, show_progress, show_stdv, seed)\u001b[0m\n\u001b[1;32m    392\u001b[0m     \u001b[0;32mif\u001b[0m \u001b[0mearly_stopping_rounds\u001b[0m \u001b[0;32mis\u001b[0m \u001b[0;32mnot\u001b[0m \u001b[0mNone\u001b[0m\u001b[0;34m:\u001b[0m\u001b[0;34m\u001b[0m\u001b[0m\n\u001b[1;32m    393\u001b[0m         \u001b[0;32mif\u001b[0m \u001b[0mlen\u001b[0m\u001b[0;34m(\u001b[0m\u001b[0mmetrics\u001b[0m\u001b[0;34m)\u001b[0m \u001b[0;34m>\u001b[0m \u001b[0;36m1\u001b[0m\u001b[0;34m:\u001b[0m\u001b[0;34m\u001b[0m\u001b[0m\n\u001b[0;32m--> 394\u001b[0;31m             raise ValueError('Check your params.'\\\n\u001b[0m\u001b[1;32m    395\u001b[0m                                      'Early stopping works with single eval metric only.')\n\u001b[1;32m    396\u001b[0m \u001b[0;34m\u001b[0m\u001b[0m\n",
      "\u001b[0;31mValueError\u001b[0m: Check your params.Early stopping works with single eval metric only."
     ]
    }
   ],
   "source": [
    "predictors = [x for x in train.columns if x not in [target]]\n",
    "\n",
    "xgb1 = XGBClassifier(\n",
    " learning_rate =0.1,\n",
    " n_estimators=25,\n",
    " max_depth=5,\n",
    " min_child_weight=1,\n",
    " gamma=0,\n",
    " subsample=1,\n",
    " colsample_bytree=1,\n",
    " objective= 'reg:linear',\n",
    " nthread=4,\n",
    " scale_pos_weight=1,\n",
    " seed=5)\n",
    "\n",
    "modelfit(xgb1, target, train, predictors)"
   ]
  },
  {
   "cell_type": "code",
   "execution_count": 510,
   "metadata": {
    "collapsed": false
   },
   "outputs": [
    {
     "data": {
      "text/plain": [
       "<matplotlib.text.Text at 0x126fac110>"
      ]
     },
     "execution_count": 510,
     "metadata": {},
     "output_type": "execute_result"
    },
    {
     "data": {
      "image/png": "[encoded data removed]",
      "text/plain": [
       "<matplotlib.figure.Figure at 0x1236d4350>"
      ]
     },
     "metadata": {},
     "output_type": "display_data"
    }
   ],
   "source": [
    "from sklearn.ensemble import RandomForestClassifier as RFC\n",
    "import matplotlib.pylab as plt\n",
    "%matplotlib inline\n",
    "from matplotlib.pylab import rcParams\n",
    "rcParams['figure.figsize'] = 12, 4\n",
    "\n",
    "df['is_train'] = np.random.uniform(0, 1, len(df)) <= .75\n",
    "df['species'] = pd.Categorical.from_codes(iris.target, iris.target_names)\n",
    " \n",
    "train, test = df[df['is_train']==True], df[df['is_train']==False]\n",
    "features = X_vrm.columns[0:]\n",
    "\n",
    "forest = RFC(n_jobs=2,n_estimators=50)\n",
    "y, _ = pd.factorize(y_vrm)\n",
    "forest.fit(X_vrm, y_vrm)\n",
    " \n",
    "importances = forest.feature_importances_\n",
    "indices = np.argsort(importances)\n",
    " \n",
    "plt.figure(figsize=(15,30))\n",
    "plt.title('Feature Importances')\n",
    "plt.barh(range(len(indices)), importances[indices], color='b', align='center')\n",
    "plt.yticks(range(len(indices)), features[indices])\n",
    "plt.xlabel('Relative Importance')"
   ]
  },
  {
   "cell_type": "code",
   "execution_count": null,
   "metadata": {
    "collapsed": true
   },
   "outputs": [],
   "source": []
  }
 ],
 "metadata": {
  "kernelspec": {
   "display_name": "Python 2",
   "language": "python",
   "name": "python2"
  },
  "language_info": {
   "codemirror_mode": {
    "name": "ipython",
    "version": 2
   },
   "file_extension": ".py",
   "mimetype": "text/x-python",
   "name": "python",
   "nbconvert_exporter": "python",
   "pygments_lexer": "ipython2",
   "version": "2.7.11"
  }
 },
 "nbformat": 4,
 "nbformat_minor": 0
}
