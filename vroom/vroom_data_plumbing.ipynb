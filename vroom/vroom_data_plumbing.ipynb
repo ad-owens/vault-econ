{
 "cells": [
  {
   "cell_type": "markdown",
   "metadata": {},
   "source": [
    "# Vroom Data Engineering / API Pull"
   ]
  },
  {
   "cell_type": "code",
   "execution_count": 4,
   "metadata": {
    "collapsed": false
   },
   "outputs": [],
   "source": [
    "import sqlite3\n",
    "from pandas.io import sql\n",
    "\n",
    "conn = sqlite3.connect('/Users/adamowens/datascience/vault-econ/vroom/vroom.db')\n",
    "c = conn.cursor()"
   ]
  },
  {
   "cell_type": "code",
   "execution_count": 39,
   "metadata": {
    "collapsed": false
   },
   "outputs": [],
   "source": [
    "import pandas as pd\n",
    "import unicodedata as uni\n",
    "df = pd.read_sql_query('select * from pricecomp;', conn)\n",
    "\n",
    "#for row in c.execute('SELECT make FROM pricecomp;'):\n",
    "#    print row\n"
   ]
  },
  {
   "cell_type": "code",
   "execution_count": 40,
   "metadata": {
    "collapsed": false
   },
   "outputs": [],
   "source": [
    "make = []\n",
    "for row in list(df['make']):\n",
    "    make.append(str(row))\n",
    "\n",
    "year = []\n",
    "for row in list(df['year']):\n",
    "    year.append(str(row))\n",
    "    \n",
    "model = []\n",
    "for row in list(df['model']):\n",
    "    model.append(str(row))\n",
    "    \n",
    "mileage = []\n",
    "for row in list(df['miles']):\n",
    "    mileage.append(str(row))"
   ]
  },
  {
   "cell_type": "code",
   "execution_count": 41,
   "metadata": {
    "collapsed": false
   },
   "outputs": [],
   "source": [
    "# Create Dictionary\n",
    "model_dict = {'GLA':'GLA-Class', 'SLK':'SLK-Class', 'CLA':'CLA-Class', 'G37 Sedan': 'GSedan', \\\n",
    "              'MKT Town Car': 'MKT', 'Ram Pickup 2500': '2500', 'MKZ Hybrid':'MKZ','MAZDA3':'3',\\\n",
    "              'Ram Pickup 1500':'1500','Ram Pickup 3500': '3500','Expedition EL':'Expedition',\\\n",
    "              'Promaster Cargo':'PromasterCargoVan','Corvette':'CorvetteStingray',\\\n",
    "              'Wrangler Unlimited':'Wrangler', 'Express Passenger':'Express','ProMaster Cargo':'PromasterCargoVan'\\\n",
    "             }"
   ]
  },
  {
   "cell_type": "code",
   "execution_count": 43,
   "metadata": {
    "collapsed": false
   },
   "outputs": [],
   "source": [
    "import urllib\n",
    "import urllib2\n",
    "import json\n",
    "\n",
    "edmunds_api_key = 'kdj6mj65bapsf8wzc936j36u'\n",
    "\n",
    "def edmunds_styleID(make, model, year):\n",
    "    url = 'https://api.edmunds.com/api/vehicle/v2/' + make + '/' + model + '/' + year + '/'+ \\\n",
    "    '?fmt=json&api_key=' + edmunds_api_key\n",
    "    json_obj = urllib2.urlopen(url)\n",
    "    data = json.load(json_obj)\n",
    "    for item in data['styles']:\n",
    "        return item['id']"
   ]
  },
  {
   "cell_type": "code",
   "execution_count": 44,
   "metadata": {
    "collapsed": false
   },
   "outputs": [],
   "source": [
    "condition = 'Clean' \n",
    "zip_code = '75052'\n",
    "\n",
    "def edmunds_TMV(styleID, mileage):\n",
    "    url = 'https://api.edmunds.com/v1/api/tmv/tmvservice/calculateusedtmv?styleid='\\\n",
    "    +styleID+'&condition='+ condition +'&mileage='+mileage+'&zip='+zip_code+'&fmt=json&api_key='+edmunds_api_key\n",
    "    json_obj = urllib2.urlopen(url)\n",
    "    data = json.load(json_obj)\n",
    "    return data.get('tmv').get('nationalBasePrice').get('usedTmvRetail')\n"
   ]
  },
  {
   "cell_type": "code",
   "execution_count": 10,
   "metadata": {
    "collapsed": false
   },
   "outputs": [],
   "source": [
    "from urllib2 import HTTPError\n",
    "import re\n",
    "\n",
    "styleID = []\n",
    "\n",
    "for x, y, z in zip(make, model, year):\n",
    "    try: styleID.append(str(edmunds_styleID(x,y,z)))\n",
    "    except HTTPError:\n",
    "        y2 = re.sub(r\"\\s+\", \"\", y)\n",
    "        try: styleID.append(str(edmunds_styleID(x,y2,z)))\n",
    "        except HTTPError:\n",
    "            y_replace = str(model_dict.get(y))\n",
    "            try: styleID.append(str(edmunds_styleID(x,y_replace,z)))\n",
    "            except HTTPError:\n",
    "                styleID.append(\"NA\")\n"
   ]
  },
  {
   "cell_type": "code",
   "execution_count": 24,
   "metadata": {
    "collapsed": false
   },
   "outputs": [],
   "source": [
    "usedTmvRetail = []\n",
    "for x, y in zip(styleID, mileage):\n",
    "    try: usedTmvRetail.append(str(edmunds_TMV(x,y)))\n",
    "    except HTTPError:\n",
    "        usedTmvRetail.append(\"None\")"
   ]
  },
  {
   "cell_type": "code",
   "execution_count": 38,
   "metadata": {
    "collapsed": false,
    "scrolled": false
   },
   "outputs": [],
   "source": [
    "import pandas as pd\n",
    "\n",
    "usedTMVRetail = ['' if x is None else x for x in usedTmvRetail]\n",
    "df_results = pd.DataFrame({'styleID':styleID,'usedTMVRetail':usedTMVRetail})\n",
    "df_results = df_results.replace(['None'], '') # Replace the 'None' values with blanks for easier computations\n",
    "\n",
    "df_total = pd.concat([df, df_results], axis = 1)\n",
    "\n",
    "df_total.to_csv('vroom_pricecomp')\n"
   ]
  },
  {
   "cell_type": "code",
   "execution_count": 13,
   "metadata": {
    "collapsed": false
   },
   "outputs": [],
   "source": [
    "# write to database\n",
    "from pandas.io import sql\n",
    "\n",
    "#df_total.to_sql(name='vroom_total', flavor = 'sqlite',con=conn)"
   ]
  }
 ],
 "metadata": {
  "kernelspec": {
   "display_name": "Python 2",
   "language": "python",
   "name": "python2"
  },
  "language_info": {
   "codemirror_mode": {
    "name": "ipython",
    "version": 2
   },
   "file_extension": ".py",
   "mimetype": "text/x-python",
   "name": "python",
   "nbconvert_exporter": "python",
   "pygments_lexer": "ipython2",
   "version": "2.7.11"
  }
 },
 "nbformat": 4,
 "nbformat_minor": 0
}
